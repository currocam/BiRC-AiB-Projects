{
 "cells": [
  {
   "cell_type": "code",
   "execution_count": 60,
   "metadata": {},
   "outputs": [],
   "source": [
    "import numpy as np\n",
    "import os\n",
    "import subprocess\n",
    "def run_script(file1, file2):\n",
    "    result = subprocess.run(['python', 'rfdist.py', file1, file2], stdout=subprocess.PIPE)\n",
    "    return int(result.stdout)\n"
   ]
  },
  {
   "attachments": {},
   "cell_type": "markdown",
   "metadata": {},
   "source": [
    "# Non permuted"
   ]
  },
  {
   "cell_type": "code",
   "execution_count": 61,
   "metadata": {},
   "outputs": [
    {
     "data": {
      "text/plain": [
       "['trees/clustal_aib_quicktree.newick',\n",
       " 'trees/kalig_aib_quicktree.newick',\n",
       " 'trees/muscle_aib_rapidnj.newick',\n",
       " 'trees/kalig_aib_rapidnj.newick',\n",
       " 'trees/muscle_aib_quicktree.newick',\n",
       " 'trees/clustal_aib_rapidnj.newick']"
      ]
     },
     "execution_count": 61,
     "metadata": {},
     "output_type": "execute_result"
    }
   ],
   "source": [
    "infiles = [f\"trees/{x}\" for x in os.listdir(\"trees\") if \"permuted\" not in x] \n",
    "infiles"
   ]
  },
  {
   "cell_type": "code",
   "execution_count": 62,
   "metadata": {},
   "outputs": [
    {
     "name": "stdout",
     "output_type": "stream",
     "text": [
      "i:0, j:1\n",
      "i:0, j:2\n"
     ]
    },
    {
     "name": "stderr",
     "output_type": "stream",
     "text": [
      "Traceback (most recent call last):\n",
      "  File \"/home/curro/BiRC-AiB-Projects/project_4/rfdist.py\", line 60, in <module>\n",
      "    print(rfdist(tree1, tree2))\n",
      "          ^^^^^^^^^^^^^^^^^^^^\n",
      "  File \"/home/curro/BiRC-AiB-Projects/project_4/rfdist.py\", line 34, in rfdist\n",
      "    T1, T2 = root_at_same_leaf(T1, T2)\n",
      "             ^^^^^^^^^^^^^^^^^^^^^^^^^\n",
      "  File \"/home/curro/BiRC-AiB-Projects/project_4/rfdist.py\", line 12, in root_at_same_leaf\n",
      "    root2 = next(T2.find_clades(root1.name))\n",
      "            ^^^^^^^^^^^^^^^^^^^^^^^^^^^^^^^^\n",
      "StopIteration\n"
     ]
    },
    {
     "ename": "ValueError",
     "evalue": "invalid literal for int() with base 10: b''",
     "output_type": "error",
     "traceback": [
      "\u001b[0;31m---------------------------------------------------------------------------\u001b[0m",
      "\u001b[0;31mValueError\u001b[0m                                Traceback (most recent call last)",
      "Cell \u001b[0;32mIn[62], line 4\u001b[0m\n\u001b[1;32m      2\u001b[0m \u001b[39mfor\u001b[39;00m i, j \u001b[39min\u001b[39;00m \u001b[39mzip\u001b[39m(\u001b[39m*\u001b[39mnp\u001b[39m.\u001b[39mtriu_indices_from(dist_non_permuted, k \u001b[39m=\u001b[39m \u001b[39m1\u001b[39m)):\n\u001b[1;32m      3\u001b[0m     \u001b[39mprint\u001b[39m(\u001b[39mf\u001b[39m\u001b[39m\"\u001b[39m\u001b[39mi:\u001b[39m\u001b[39m{\u001b[39;00mi\u001b[39m}\u001b[39;00m\u001b[39m, j:\u001b[39m\u001b[39m{\u001b[39;00mj\u001b[39m}\u001b[39;00m\u001b[39m\"\u001b[39m)\n\u001b[0;32m----> 4\u001b[0m     x \u001b[39m=\u001b[39m run_script(infiles[i], infiles[j])\n\u001b[1;32m      5\u001b[0m     dist_non_permuted[i, j] \u001b[39m=\u001b[39m dist_non_permuted[j, i] \u001b[39m=\u001b[39m x\n\u001b[1;32m      6\u001b[0m dist_non_permuted\n",
      "Cell \u001b[0;32mIn[60], line 6\u001b[0m, in \u001b[0;36mrun_script\u001b[0;34m(file1, file2)\u001b[0m\n\u001b[1;32m      4\u001b[0m \u001b[39mdef\u001b[39;00m \u001b[39mrun_script\u001b[39m(file1, file2):\n\u001b[1;32m      5\u001b[0m     result \u001b[39m=\u001b[39m subprocess\u001b[39m.\u001b[39mrun([\u001b[39m'\u001b[39m\u001b[39mpython\u001b[39m\u001b[39m'\u001b[39m, \u001b[39m'\u001b[39m\u001b[39mrfdist.py\u001b[39m\u001b[39m'\u001b[39m, file1, file2], stdout\u001b[39m=\u001b[39msubprocess\u001b[39m.\u001b[39mPIPE)\n\u001b[0;32m----> 6\u001b[0m     \u001b[39mreturn\u001b[39;00m \u001b[39mint\u001b[39;49m(result\u001b[39m.\u001b[39;49mstdout)\n",
      "\u001b[0;31mValueError\u001b[0m: invalid literal for int() with base 10: b''"
     ]
    }
   ],
   "source": [
    "dist_non_permuted = np.zeros((6, 6))\n",
    "for i, j in zip(*np.triu_indices_from(dist_non_permuted, k = 1)):\n",
    "    print(f\"i:{i}, j:{j}\")\n",
    "    x = run_script(infiles[i], infiles[j])\n",
    "    dist_non_permuted[i, j] = dist_non_permuted[j, i] = x\n",
    "dist_non_permuted"
   ]
  },
  {
   "cell_type": "code",
   "execution_count": null,
   "metadata": {},
   "outputs": [],
   "source": []
  },
  {
   "cell_type": "code",
   "execution_count": 35,
   "metadata": {},
   "outputs": [
    {
     "data": {
      "text/plain": [
       "array([0, 1, 2, 3, 4, 5, 1, 2, 3, 4, 5, 2, 3, 4, 5, 3, 4, 5, 4, 5, 5])"
      ]
     },
     "execution_count": 35,
     "metadata": {},
     "output_type": "execute_result"
    }
   ],
   "source": [
    "indexes[1]"
   ]
  }
 ],
 "metadata": {
  "kernelspec": {
   "display_name": "dev",
   "language": "python",
   "name": "python3"
  },
  "language_info": {
   "codemirror_mode": {
    "name": "ipython",
    "version": 3
   },
   "file_extension": ".py",
   "mimetype": "text/x-python",
   "name": "python",
   "nbconvert_exporter": "python",
   "pygments_lexer": "ipython3",
   "version": "3.11.3"
  },
  "orig_nbformat": 4
 },
 "nbformat": 4,
 "nbformat_minor": 2
}
