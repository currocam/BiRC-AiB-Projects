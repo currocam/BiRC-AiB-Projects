{
 "cells": [
  {
   "cell_type": "code",
   "execution_count": 49,
   "metadata": {},
   "outputs": [],
   "source": [
    "import numpy as np\n",
    "import pandas as pd\n",
    "from pathlib import Path\n",
    "import os\n",
    "import subprocess\n",
    "def run_script(file1, file2):\n",
    "    result = subprocess.run(['python', 'rfdist.py', file1, file2], stdout=subprocess.PIPE)\n",
    "    return int(result.stdout)\n"
   ]
  },
  {
   "attachments": {},
   "cell_type": "markdown",
   "metadata": {},
   "source": [
    "# Non permuted"
   ]
  },
  {
   "cell_type": "code",
   "execution_count": 42,
   "metadata": {},
   "outputs": [
    {
     "data": {
      "text/plain": [
       "['trees/clustal_aib_quicktree.newick',\n",
       " 'trees/kalig_aib_quicktree.newick',\n",
       " 'trees/muscle_aib_rapidnj.newick',\n",
       " 'trees/kalig_aib_rapidnj.newick',\n",
       " 'trees/muscle_aib_quicktree.newick',\n",
       " 'trees/clustal_aib_rapidnj.newick']"
      ]
     },
     "execution_count": 42,
     "metadata": {},
     "output_type": "execute_result"
    }
   ],
   "source": [
    "infiles = [f\"trees/{x}\" for x in os.listdir(\"trees\") if \"permuted\" not in x] \n",
    "infiles"
   ]
  },
  {
   "cell_type": "code",
   "execution_count": 43,
   "metadata": {},
   "outputs": [
    {
     "data": {
      "text/plain": [
       "array([[  0, 206, 246, 290, 198, 230],\n",
       "       [206,   0, 298, 232, 264, 296],\n",
       "       [246, 298,   0, 286, 192, 242],\n",
       "       [290, 232, 286,   0, 318, 274],\n",
       "       [198, 264, 192, 318,   0, 284],\n",
       "       [230, 296, 242, 274, 284,   0]])"
      ]
     },
     "execution_count": 43,
     "metadata": {},
     "output_type": "execute_result"
    }
   ],
   "source": [
    "dist_non_permuted = np.zeros((6, 6), dtype = \"int\")\n",
    "for i, j in zip(*np.triu_indices_from(dist_non_permuted, k = 1)):\n",
    "    x = run_script(infiles[i], infiles[j])\n",
    "    dist_non_permuted[i, j] = dist_non_permuted[j, i] = x\n",
    "dist_non_permuted"
   ]
  },
  {
   "cell_type": "code",
   "execution_count": 60,
   "metadata": {},
   "outputs": [],
   "source": [
    "pd.DataFrame(\n",
    "    dist_non_permuted,\n",
    "    columns = [Path(x).stem for x in infiles],\n",
    "    index = [Path(x).stem for x in infiles]\n",
    "    ).to_csv('non_permuted_distances.csv')"
   ]
  },
  {
   "cell_type": "code",
   "execution_count": 38,
   "metadata": {},
   "outputs": [
    {
     "data": {
      "text/plain": [
       "['trees/kalig_aib_permuted_quicktree.newick',\n",
       " 'trees/muscle_aib_permuted_quicktree.newick',\n",
       " 'trees/clustal_aib_permuted_quicktree.newick',\n",
       " 'trees/kalig_aib_permuted_rapidnj.newick',\n",
       " 'trees/muscle_aib_permuted_rapidnj.newick',\n",
       " 'trees/clustal_aib_permuted_rapidnj.newick']"
      ]
     },
     "execution_count": 38,
     "metadata": {},
     "output_type": "execute_result"
    }
   ],
   "source": [
    "infiles = [f\"trees/{x}\" for x in os.listdir(\"trees\") if \"permuted\" in x] \n",
    "infiles"
   ]
  },
  {
   "cell_type": "code",
   "execution_count": 39,
   "metadata": {},
   "outputs": [
    {
     "data": {
      "text/plain": [
       "array([[  0, 224, 198, 226, 284, 298],\n",
       "       [224,   0, 158, 298, 208, 280],\n",
       "       [198, 158,   0, 288, 216, 238],\n",
       "       [226, 298, 288,   0, 268, 280],\n",
       "       [284, 208, 216, 268,   0, 246],\n",
       "       [298, 280, 238, 280, 246,   0]])"
      ]
     },
     "execution_count": 39,
     "metadata": {},
     "output_type": "execute_result"
    }
   ],
   "source": [
    "dist_permuted = np.zeros((6, 6), dtype = \"int\")\n",
    "for i, j in zip(*np.triu_indices_from(dist_permuted, k = 1)):\n",
    "    x = run_script(infiles[i], infiles[j])\n",
    "    dist_permuted[i, j] = dist_permuted[j, i] = x\n",
    "dist_permuted"
   ]
  },
  {
   "cell_type": "code",
   "execution_count": 61,
   "metadata": {},
   "outputs": [],
   "source": [
    "pd.DataFrame(\n",
    "    dist_permuted,\n",
    "    columns = [Path(x).stem for x in infiles],\n",
    "    index = [Path(x).stem for x in infiles]\n",
    "    ).to_csv('permuted_distances.csv')"
   ]
  }
 ],
 "metadata": {
  "kernelspec": {
   "display_name": "dev",
   "language": "python",
   "name": "python3"
  },
  "language_info": {
   "codemirror_mode": {
    "name": "ipython",
    "version": 3
   },
   "file_extension": ".py",
   "mimetype": "text/x-python",
   "name": "python",
   "nbconvert_exporter": "python",
   "pygments_lexer": "ipython3",
   "version": "3.11.3"
  },
  "orig_nbformat": 4
 },
 "nbformat": 4,
 "nbformat_minor": 2
}
