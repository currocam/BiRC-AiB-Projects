{
 "cells": [
  {
   "cell_type": "code",
   "execution_count": 2,
   "metadata": {},
   "outputs": [],
   "source": [
    "import numpy as np\n",
    "def initialize_matrix(x: str, y:str)->np.ndarray:\n",
    "    dim = (len(x)+1, len(y)+1)\n",
    "    return np.full(dim, None)\n",
    "def convert_dna(x: str)-> list[int]:\n",
    "        alphabet = {'A': 0, 'C': 1, 'G': 2, 'T': 3}\n",
    "        return list(alphabet.get(char) for char in x)\n",
    "\n",
    "def fill_matrix(\n",
    "    mat: np.ndarray, A: list[int], B: list[int],\n",
    "    score_matrix: np.ndarray, gap_cost: int,\n",
    "    opt_fn = np.min\n",
    "    ):\n",
    "    def cost(x: int, y: int):\n",
    "        return score_matrix[x, y]\n",
    "    def C(i: int, j: int):\n",
    "        if mat[i, j] is not None: return mat[i, j]\n",
    "        match i:\n",
    "            case 0 if j == 0:\n",
    "                return 0\n",
    "            case _ if j == 0:\n",
    "                return i * gap_cost\n",
    "            case 0 if j != 0:\n",
    "                return j * gap_cost\n",
    "        return opt_fn([\n",
    "            C(i-1, j) + gap_cost,\n",
    "            C(i, j-1) + gap_cost,\n",
    "            C(i-1, j-1) + cost(A[i-1],B[j-1])\n",
    "        ])\n",
    "\n",
    "    for i in range(mat.shape[0]):\n",
    "        for j in range(mat.shape[1]):\n",
    "            mat[i, j] = C(i, j)\n",
    "    return mat\n",
    "    \n",
    "def compute_optimal_aligment_cost(\n",
    "    x: str, y: str, score_mat: np.ndarray,\n",
    "    gap_cost = 1, opt_fn = np.min\n",
    "    ):\n",
    "    dyn_mat = initialize_matrix(x, y)\n",
    "    dyn_mat = fill_matrix(\n",
    "        dyn_mat, convert_dna(x), convert_dna(y), score_mat,\n",
    "        gap_cost, opt_fn\n",
    "    )\n",
    "    return dyn_mat[len(x), len(y)]\n"
   ]
  },
  {
   "attachments": {},
   "cell_type": "markdown",
   "metadata": {},
   "source": [
    "Example 1:"
   ]
  },
  {
   "cell_type": "code",
   "execution_count": null,
   "metadata": {},
   "outputs": [
    {
     "ename": "",
     "evalue": "",
     "output_type": "error",
     "traceback": [
      "\u001b[1;31mRunning cells with 'base' requires the ipykernel package.\n",
      "\u001b[1;31mRun the following command to install 'ipykernel' into the Python environment. \n",
      "\u001b[1;31mCommand: 'conda install -n base ipykernel --update-deps --force-reinstall'"
     ]
    }
   ],
   "source": [
    "score_mat = np.matrix(\n",
    "[[10, 2, 5, 2],\n",
    "[2, 10, 2, 5],\n",
    "[5, 2, 10, 2],\n",
    "[2, 5, 2, 10]]\n",
    ")\n",
    "\n",
    "compute_optimal_aligment_cost('TCGAT', 'TCCAGAGA', score_mat, gap_cost=-5, opt_fn=np.max)"
   ]
  },
  {
   "attachments": {},
   "cell_type": "markdown",
   "metadata": {},
   "source": [
    "Example 2"
   ]
  },
  {
   "cell_type": "code",
   "execution_count": null,
   "metadata": {},
   "outputs": [],
   "source": [
    "compute_optimal_aligment_cost('CGTGTCAAGTCT', 'ACGTCGTAGCTAGG', score_mat, gap_cost=-5, opt_fn=np.max)"
   ]
  },
  {
   "attachments": {},
   "cell_type": "markdown",
   "metadata": {},
   "source": [
    "Question 1: What is the optimal (here maximal) cost of an alignment of AATAAT and AAGG using the above substitution matrix and gap cost -5?"
   ]
  },
  {
   "cell_type": "code",
   "execution_count": null,
   "metadata": {},
   "outputs": [],
   "source": [
    "seq1 = \"AATAAT\"\n",
    "seq2 = \"AAGG\"\n",
    "compute_optimal_aligment_cost(seq1, seq2,  score_mat, gap_cost=-5, opt_fn=np.max)"
   ]
  },
  {
   "cell_type": "code",
   "execution_count": null,
   "metadata": {},
   "outputs": [],
   "source": [
    "from Bio import SeqIO\n",
    "sequences1 = SeqIO.parse(\"seq1.fasta\",'fasta')\n",
    "sequences2 = SeqIO.parse(\"seq2.fasta\",'fasta')\n",
    "compute_optimal_aligment_cost(\n",
    "    next(sequences1), next(sequences2),  score_mat, gap_cost=-5, opt_fn=np.max\n",
    "    )"
   ]
  }
 ],
 "metadata": {
  "kernelspec": {
   "display_name": "base",
   "language": "python",
   "name": "python3"
  },
  "language_info": {
   "codemirror_mode": {
    "name": "ipython",
    "version": 3
   },
   "file_extension": ".py",
   "mimetype": "text/x-python",
   "name": "python",
   "nbconvert_exporter": "python",
   "pygments_lexer": "ipython3",
   "version": "3.9.12"
  },
  "orig_nbformat": 4,
  "vscode": {
   "interpreter": {
    "hash": "d5c613ad5322dfaf6d522af069c735c17713ff83b1cc33b298cdcd41ec333002"
   }
  }
 },
 "nbformat": 4,
 "nbformat_minor": 2
}
