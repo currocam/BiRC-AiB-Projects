{
 "cells": [
  {
   "cell_type": "code",
   "execution_count": 1,
   "id": "269bf1fb",
   "metadata": {},
   "outputs": [],
   "source": [
    "import numpy as np\n",
    "from typing import Tuple, Optional\n",
    "import itertools\n",
    "from Bio import SeqIO, SeqRecord, Seq"
   ]
  },
  {
   "attachments": {},
   "cell_type": "markdown",
   "id": "b4cf455b",
   "metadata": {},
   "source": [
    "First, we \"configure\" our global alignment program by assigning a score matriz and an alphabet. "
   ]
  },
  {
   "cell_type": "code",
   "execution_count": 2,
   "id": "ee3d8213",
   "metadata": {},
   "outputs": [],
   "source": [
    "SCORE_MATRIX = np.matrix(\n",
    "    [[0, 5, 2, 5, 5],  # A\n",
    "    [5, 0, 5, 2, 5],  # C\n",
    "    [2, 5, 0, 5, 5],  # G\n",
    "    [5, 2, 5, 0, 5],  # T\n",
    "    [5, 5, 5, 5, 0]]  #-'\n",
    "    )\n",
    "GAP_CHAR = 4\n",
    "ALPHABET = alphabet = {'A': 0, 'C': 1, 'G': 2, 'T': 3, '-': 4}\n",
    "def dna2int(x: str)-> list[int]:\n",
    "    '''\n",
    "    >>> dna2int('ACGT-A')\n",
    "    [0, 1, 2, 3, 4, 0]\n",
    "    '''\n",
    "    return list(alphabet.get(char) for char in x)\n",
    "def int2dna(x: list[int])-> str:\n",
    "    '''\n",
    "    >>> int2dna([0, 1, 2, 3, 4, 0])\n",
    "    'ACGT-A'\n",
    "    '''\n",
    "    collapsed = \"\".join(ALPHABET)\n",
    "    return \"\".join(collapsed[i] for i in x)\n",
    "\n",
    "def score_sum_pairs(*chars: Optional[int])-> int:\n",
    "    \"\"\"\n",
    "    >>> score_sum_pairs(0, 0, 0)\n",
    "    0\n",
    "    >>> score_sum_pairs(0, 1, 2)\n",
    "    12\n",
    "    >>> score_sum_pairs(0, 1)\n",
    "    5\n",
    "    \"\"\"\n",
    "    return sum(SCORE_MATRIX[x, y] for x, y in itertools.combinations(chars, 2))"
   ]
  },
  {
   "attachments": {},
   "cell_type": "markdown",
   "id": "5389054f",
   "metadata": {},
   "source": [
    "We will create two helper functions to help us generalizing the problem:"
   ]
  },
  {
   "cell_type": "code",
   "execution_count": 3,
   "id": "ae0feae0",
   "metadata": {},
   "outputs": [],
   "source": [
    "def get_plausible_path(index):\n",
    "    \"\"\"This function computes all possible combinations for a given index \n",
    "    assuming a global alignment. It' 1-indexed, so 0 means gap. \n",
    "    >>> get_plausible_path((0, 0, 0))\n",
    "    set()\n",
    "    >>> get_plausible_path((22, 1, 10))\n",
    "    {(0, 0, 10), (0, 1, 10), (0, 1, 0), (22, 1, 10), (22, 0, 10), (22, 0, 0), (22, 1, 0)}\n",
    "    \"\"\"\n",
    "    gaps_over_gaps = tuple(0 for _ in index)\n",
    "    all_combs = np.array(list(itertools.product([0, 1], repeat=len(index))))\n",
    "    return set(tuple(index * comb) for comb in all_combs if tuple(index * comb) != gaps_over_gaps)\n",
    "def get_previous_index(index, comb):\n",
    "    \"\"\"This function gets the previous index for a given combination and index\n",
    "    The combination it's 1-indexed in reference to the sequence\n",
    "    >>> get_previous_index((1, 1, 1), (1, 1, 1))\n",
    "    (0, 0, 0)\n",
    "    >>> get_previous_index((15, 12, 1), (1, 0, 1))\n",
    "    (14, 12, 0)\n",
    "    \"\"\"\n",
    "    return tuple(i - 1 if v else i for i, v in zip(index, comb))"
   ]
  },
  {
   "attachments": {},
   "cell_type": "markdown",
   "id": "0ea46ae7",
   "metadata": {},
   "source": [
    "We create two general functions for every $0 \\le k \\in \\textbf N$ that will compute the dynamic matrix and do the backtracking:"
   ]
  },
  {
   "cell_type": "code",
   "execution_count": 4,
   "id": "730bfcbc",
   "metadata": {},
   "outputs": [],
   "source": [
    "def compute_exact_alignment(*seq)-> np.ndarray:\n",
    "    \"\"\"\n",
    "    >>> compute_exact_alignment(\"\")[-1]\n",
    "    0\n",
    "    >>> compute_exact_alignment(\"\", \"\", \"\")[-1, -1, -1]\n",
    "    0\n",
    "    >>> compute_exact_alignment(\"ACGTGTCAACGT\", \"ACGTCGTAGCTA\")[-1, -1]\n",
    "    22\n",
    "    >>> compute_exact_alignment(\"AATAAT\", \"AAGG\")[-1, -1]\n",
    "    14\n",
    "    \"\"\"\n",
    "    sequences: Tuple[int] = tuple(dna2int(x) for x in seq)\n",
    "    shapes = tuple(len(x)+1 for x in sequences)\n",
    "    D = np.zeros(shapes, dtype = \"int\")\n",
    "    for index in np.ndindex(D.shape):\n",
    "        possibilities = set()\n",
    "        for direction in get_plausible_path(index):\n",
    "            previous_cost = D[get_previous_index(index, direction)]\n",
    "            extension_cost = score_sum_pairs(\n",
    "                *[sequence[v-1] if v else GAP_CHAR for v, sequence in zip(direction, sequences)]\n",
    "            )\n",
    "            possibilities.add(previous_cost + extension_cost)\n",
    "        if possibilities:\n",
    "            D[index] = min(possibilities)    \n",
    "    return D\n",
    "\n",
    "def linear_backtrack(D: np.ndarray, *seq):\n",
    "    \"\"\"Compute alignment in linear time using the whole cost matrix\"\"\"\n",
    "    sequences: Tuple[int] = tuple(dna2int(x) for x in seq)\n",
    "    alignment = np.empty((len(sequences), 0), dtype = \"int\")\n",
    "    indexes = tuple(elm -1 for elm in D.shape)\n",
    "    while sum(indexes) != 0:\n",
    "        for comb in get_plausible_path(indexes):\n",
    "            previous_pos = get_previous_index(indexes, comb)\n",
    "            new_aligned_col = [sequence[v-1] if v else GAP_CHAR for v, sequence in zip(comb, sequences)]\n",
    "            if D[indexes] == D[previous_pos] + score_sum_pairs(*new_aligned_col):\n",
    "                alignment = np.column_stack((alignment, np.array(new_aligned_col)))\n",
    "                indexes = previous_pos\n",
    "                break\n",
    "    return tuple(int2dna(seq.tolist()) for seq in np.flip(alignment,axis = 1))"
   ]
  },
  {
   "attachments": {},
   "cell_type": "markdown",
   "id": "35851451",
   "metadata": {},
   "source": [
    "Finally, we create a dataclass, MSA, that will hold all the information for a MSA and create a function for it. "
   ]
  },
  {
   "cell_type": "code",
   "execution_count": 5,
   "id": "57e6b853",
   "metadata": {},
   "outputs": [],
   "source": [
    "from dataclasses import dataclass\n",
    "\n",
    "\n",
    "@dataclass\n",
    "class MSA:\n",
    "    cost: int\n",
    "    sequences: tuple[str]\n",
    "\n",
    "def global_alignment(*sequences) -> MSA:\n",
    "    \"\"\"\n",
    "    Compute an optimal global alignment of 3 sequences\n",
    "    >>> global_alignment(\"\")\n",
    "    MSA(cost=0, sequences=('',))\n",
    "    >>> global_alignment(\"\", \"\")\n",
    "    MSA(cost=0, sequences=('', ''))\n",
    "    >>> global_alignment(\"A\", \"\")\n",
    "    MSA(cost=5, sequences=('A', '-'))\n",
    "    >>> global_alignment(\"AATAAT\", \"AAGG\")\n",
    "    MSA(cost=14, sequences=('AATAAT', 'AA-GG-'))\n",
    "    >>> global_alignment(\"A\", \"\", \"C\", \"GG\", \"AA\", \"C\")\n",
    "    MSA(cost=101, sequences=('-A', '--', '-C', 'GG', 'AA', '-C'))\n",
    "    >>> global_alignment(\"GTTCCGAAAGGCTAGCGCTAGGCGCC\", \"ATGGATTTATCTGCTCTTCG\", \"TGCATGCTGAAACTTCTCAACCA\")\n",
    "    MSA(cost=198, sequences=('GTTCCGAAAGGCTAGCGCTAGGC-GCC-', 'AT---GGAT--TT-AT-CTGCTC-TTCG', '-T---GCATG-CTGAAACTTCTCAACCA'))\n",
    "    \"\"\"\n",
    "    D = compute_exact_alignment(*sequences)\n",
    "    return MSA(\n",
    "        D[tuple(i-1 for i in D.shape)],\n",
    "        linear_backtrack(D, *sequences)\n",
    "        )"
   ]
  },
  {
   "attachments": {},
   "cell_type": "markdown",
   "id": "e0bfa41e",
   "metadata": {},
   "source": [
    "Now are going to run a longer test (this should return a 1482 cost)"
   ]
  },
  {
   "attachments": {},
   "cell_type": "markdown",
   "id": "911658d1",
   "metadata": {},
   "source": [
    "### Approximate"
   ]
  },
  {
   "cell_type": "code",
   "execution_count": 6,
   "id": "f3193935",
   "metadata": {},
   "outputs": [],
   "source": [
    "def find_first_sequence(sequences: [str])-> int:\n",
    "    \"\"\"\n",
    "    Finds the first sequence for 2-approximation algorithm\n",
    "    >>> find_first_sequence([\"AA\", \"CT\", \"CT\"])\n",
    "    1\n",
    "    \"\"\"\n",
    "    n = len(sequences)\n",
    "    shape = (n, n)\n",
    "    pairwises = np.zeros(shape,dtype=\"int\")\n",
    "    for i, j in zip(*np.triu_indices(n,k=1, m=n)):\n",
    "        pairwises[i, j] = pairwises[j, i] = global_alignment(sequences[i], sequences[j]).cost\n",
    "    return np.argmin([sum(row) for row in pairwises])      \n"
   ]
  },
  {
   "cell_type": "code",
   "execution_count": 7,
   "id": "0a8d357c",
   "metadata": {},
   "outputs": [],
   "source": [
    "def extend_MSA(M: np.ndarray , A: MSA) -> np.ndarray:\n",
    "    \"\"\"\n",
    "    Extend a MSA with a given pairwise alignment. \n",
    "    >>> x = np.array([['A', 'C'],['A', '-']])\n",
    "    >>> y = global_alignment(\"AC\", \"GC\")\n",
    "    >>> extend_MSA(x, y)\n",
    "    array([['A', 'C'],\n",
    "           ['A', '-'],\n",
    "           ['G', 'C']], dtype='<U1')\n",
    "    \"\"\"\n",
    "    A = A.sequences\n",
    "    new_msa = np.empty((M.shape[0]+1, 0), dtype = \"<U1\")\n",
    "    i, j = 0, 0\n",
    "    while i < M.shape[1] and j < len(A[0]):\n",
    "        if M[0, i] == A[0][j]:\n",
    "            new_column =  np.append(M[:, i], A[1][j])\n",
    "            new_column = new_column.reshape((len(new_column),1))\n",
    "            new_msa = np.hstack((new_column, new_msa))\n",
    "            i+=1\n",
    "            j+=1\n",
    "        elif M[0, i] == \"-\":\n",
    "            new_column =  np.append(M[:, i], \"-\")\n",
    "            new_column = new_column.reshape((len(new_column),1))\n",
    "            new_msa = np.hstack((new_column, new_msa))\n",
    "            i+=1\n",
    "        elif A[0][j] == \"-\":\n",
    "            new_column =  np.append(M.shape[0]*[\"-\"], A[1][j])\n",
    "            new_column = new_column.reshape((len(new_column),1))\n",
    "            new_msa = np.hstack((new_column, new_msa))\n",
    "            j+=1\n",
    "    while i < M.shape[1]:\n",
    "        new_column =  np.append(M[:, i], \"-\")\n",
    "        new_column = new_column.reshape((len(new_column),1))\n",
    "        new_msa = np.hstack((new_column, new_msa))\n",
    "        i+=1\n",
    "    while j < len(A[0]):\n",
    "        new_column =  np.append(M.shape[0]*[\"-\"], A[1][j])\n",
    "        new_column = new_column.reshape((len(new_column),1))\n",
    "        new_msa = np.hstack((new_column, new_msa))\n",
    "        j+=1\n",
    "    return  np.flip(new_msa, 1)\n"
   ]
  },
  {
   "cell_type": "code",
   "execution_count": 8,
   "id": "17bd6f24",
   "metadata": {},
   "outputs": [],
   "source": [
    "def compute_2P_approximation(*sequences)-> np.ndarray:\n",
    "    \"\"\"\n",
    "    Compute the global alignment of any given sequences\n",
    "    >>> compute_2P_approximation(\"AATAAT\", \"AAGG\")\n",
    "    MSA(cost=14, sequences=('AATAAT', 'AA-GG-'))\n",
    "    >>> compute_2P_approximation(\"A\", \"C\", \"GG\", \"AA\", \"C\")\n",
    "    MSA(cost=66, sequences=('A-', 'C-', 'AA', 'GG', 'C-'))\n",
    "    >>> compute_2P_approximation(\"GTTCCGAAAGGCTAGCGCTAGGCGCC\", \"ATGGATTTATCTGCTCTTCG\", \"TGCATGCTGAAACTTCTCAACCA\")\n",
    "    MSA(cost=212, sequences=('-TGCATGCTGAAA--CT--T-CTCAAC-CA', 'ATGGAT-TT--AT--CT--G-CTCT-T-CG', '--GT-T-CCGAAAGGCTAGCGCTAGGCGCC'))\n",
    "    \"\"\"\n",
    "    first = find_first_sequence(sequences)\n",
    "    alignments = list()\n",
    "    for second, _ in enumerate(sequences):\n",
    "        if second != first:\n",
    "            alignments.append(global_alignment(sequences[first], sequences[second]))\n",
    "    MultipleAligment = np.array([ list(seq) for seq in alignments.pop().sequences]) \n",
    "    while alignments:\n",
    "        pairwise = alignments.pop()\n",
    "        MultipleAligment = extend_MSA(MultipleAligment, pairwise)\n",
    "    cost = sum(score_sum_pairs(*[dna2int(char) for char in col]) for col in MultipleAligment.T)\n",
    "    aligned_sequences = tuple(\"\".join(x) for x in MultipleAligment)\n",
    "    return MSA(cost = int(cost), sequences = aligned_sequences)"
   ]
  },
  {
   "cell_type": "code",
   "execution_count": 9,
   "id": "6bb3237b",
   "metadata": {},
   "outputs": [
    {
     "data": {
      "text/plain": [
       "TestResults(failed=0, attempted=26)"
      ]
     },
     "execution_count": 9,
     "metadata": {},
     "output_type": "execute_result"
    }
   ],
   "source": [
    "import doctest\n",
    "doctest.testmod()"
   ]
  },
  {
   "cell_type": "code",
   "execution_count": 10,
   "id": "c26b8728",
   "metadata": {},
   "outputs": [
    {
     "data": {
      "text/plain": [
       "1580"
      ]
     },
     "execution_count": 10,
     "metadata": {},
     "output_type": "execute_result"
    }
   ],
   "source": [
    "long_test = \"tests/testdata_long.txt\"\n",
    "MSA = compute_2P_approximation(*[str(x.seq) for x in SeqIO.parse(long_test,'fasta')])\n",
    "MSA.cost"
   ]
  }
 ],
 "metadata": {
  "kernelspec": {
   "display_name": "base",
   "language": "python",
   "name": "python3"
  },
  "language_info": {
   "codemirror_mode": {
    "name": "ipython",
    "version": 3
   },
   "file_extension": ".py",
   "mimetype": "text/x-python",
   "name": "python",
   "nbconvert_exporter": "python",
   "pygments_lexer": "ipython3",
   "version": "3.10.9"
  }
 },
 "nbformat": 4,
 "nbformat_minor": 5
}
