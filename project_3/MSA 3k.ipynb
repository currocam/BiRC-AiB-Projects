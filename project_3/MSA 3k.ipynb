{
 "cells": [
  {
   "attachments": {},
   "cell_type": "markdown",
   "id": "269bf1fb",
   "metadata": {},
   "source": [
    "## Set up\n",
    "\n",
    "First, we import libraries"
   ]
  },
  {
   "cell_type": "code",
   "execution_count": 27,
   "id": "be074ba8",
   "metadata": {},
   "outputs": [],
   "source": [
    "import numpy as np\n",
    "from typing import Tuple, Optional\n",
    "import itertools\n",
    "from Bio import SeqIO, SeqRecord, Seq\n",
    "import Bio\n",
    "from dataclasses import dataclass"
   ]
  },
  {
   "attachments": {},
   "cell_type": "markdown",
   "id": "b4cf455b",
   "metadata": {},
   "source": [
    "and \"configure\" our global alignment program by assigning a score matrix and an alphabet. We also define helper functions"
   ]
  },
  {
   "cell_type": "code",
   "execution_count": 2,
   "id": "ee3d8213",
   "metadata": {},
   "outputs": [],
   "source": [
    "SCORE_MATRIX = np.matrix(\n",
    "    [[0, 5, 2, 5, 5],  # A\n",
    "    [5, 0, 5, 2, 5],  # C\n",
    "    [2, 5, 0, 5, 5],  # G\n",
    "    [5, 2, 5, 0, 5],  # T\n",
    "    [5, 5, 5, 5, 0]]  #-'\n",
    "    )\n",
    "GAP_CHAR = 4\n",
    "ALPHABET = alphabet = {'A': 0, 'C': 1, 'G': 2, 'T': 3, '-': 4}\n",
    "def dna2int(x: str)-> list[int]:\n",
    "    '''\n",
    "    >>> dna2int('ACGT-A')\n",
    "    [0, 1, 2, 3, 4, 0]\n",
    "    '''\n",
    "    return list(alphabet.get(char) for char in x)\n",
    "def int2dna(x: list[int])-> str:\n",
    "    '''\n",
    "    >>> int2dna([0, 1, 2, 3, 4, 0])\n",
    "    'ACGT-A'\n",
    "    '''\n",
    "    collapsed = \"\".join(ALPHABET)\n",
    "    return \"\".join(collapsed[i] for i in x)\n",
    "\n",
    "def score_sum_pairs(*chars: Optional[int])-> int:\n",
    "    \"\"\"\n",
    "    >>> score_sum_pairs(0, 0, 0)\n",
    "    0\n",
    "    >>> score_sum_pairs(0, 1, 2)\n",
    "    12\n",
    "    >>> score_sum_pairs(0, 1)\n",
    "    5\n",
    "    \"\"\"\n",
    "    return sum(SCORE_MATRIX[x, y] for x, y in itertools.combinations(chars, 2))\n",
    "\n",
    "@dataclass\n",
    "class MSA:\n",
    "    cost: int\n",
    "    sequences: tuple[str]\n"
   ]
  },
  {
   "cell_type": "code",
   "execution_count": 39,
   "id": "24c9ad9e",
   "metadata": {},
   "outputs": [],
   "source": [
    "def msa_to_fasta(x: MSA, outfile):\n",
    "    records = list()\n",
    "    for i, seq in enumerate(x.sequences):\n",
    "        records.append(SeqRecord.SeqRecord(\n",
    "            Seq.Seq(seq),\n",
    "            id= f\"seq{i}\",\n",
    "            name=f\"seq{i}\",\n",
    "            description=f\"seq{i}\",\n",
    "            ))\n",
    "    SeqIO.write(records, outfile, \"fasta\")\n"
   ]
  },
  {
   "attachments": {},
   "cell_type": "markdown",
   "id": "5389054f",
   "metadata": {},
   "source": [
    "### Exact solution\n",
    "\n",
    "First we define some functions that we will use for both calculating the cost and backtrack. "
   ]
  },
  {
   "cell_type": "code",
   "execution_count": 3,
   "id": "ae0feae0",
   "metadata": {},
   "outputs": [],
   "source": [
    "def get_plausible_path(index):\n",
    "    \"\"\"This function computes all possible combinations for a given index \n",
    "    assuming a global alignment. It' 1-indexed, so 0 means gap. \n",
    "    >>> get_plausible_path((0, 0, 0))\n",
    "    set()\n",
    "    >>> get_plausible_path((22, 1, 10))\n",
    "    {(0, 0, 10), (0, 1, 10), (0, 1, 0), (22, 1, 10), (22, 0, 10), (22, 0, 0), (22, 1, 0)}\n",
    "    \"\"\"\n",
    "    gaps_over_gaps = tuple(0 for _ in index)\n",
    "    all_combs = np.array(list(itertools.product([0, 1], repeat=len(index))))\n",
    "    return set(tuple(index * comb) for comb in all_combs if tuple(index * comb) != gaps_over_gaps)\n",
    "def get_previous_index(index, comb):\n",
    "    \"\"\"This function gets the previous index for a given combination and index\n",
    "    The combination it's 1-indexed in reference to the sequence\n",
    "    >>> get_previous_index((1, 1, 1), (1, 1, 1))\n",
    "    (0, 0, 0)\n",
    "    >>> get_previous_index((15, 12, 1), (1, 0, 1))\n",
    "    (14, 12, 0)\n",
    "    \"\"\"\n",
    "    return tuple(i - 1 if v else i for i, v in zip(index, comb))"
   ]
  },
  {
   "attachments": {},
   "cell_type": "markdown",
   "id": "0ea46ae7",
   "metadata": {},
   "source": [
    "We have created two functions that will compute the dynamic matrix and do the backtrack for $k$ sequences, where $0 \\le k \\in \\textbf N$."
   ]
  },
  {
   "cell_type": "code",
   "execution_count": 4,
   "id": "730bfcbc",
   "metadata": {},
   "outputs": [],
   "source": [
    "def compute_exact_alignment(*seq)-> np.ndarray:\n",
    "    \"\"\"\n",
    "    >>> compute_exact_alignment(\"\")[-1]\n",
    "    0\n",
    "    >>> compute_exact_alignment(\"\", \"\", \"\")[-1, -1, -1]\n",
    "    0\n",
    "    >>> compute_exact_alignment(\"ACGTGTCAACGT\", \"ACGTCGTAGCTA\")[-1, -1]\n",
    "    22\n",
    "    >>> compute_exact_alignment(\"AATAAT\", \"AAGG\")[-1, -1]\n",
    "    14\n",
    "    \"\"\"\n",
    "    sequences: Tuple[int] = tuple(dna2int(x) for x in seq)\n",
    "    shapes = tuple(len(x)+1 for x in sequences)\n",
    "    D = np.zeros(shapes, dtype = \"int\")\n",
    "    for index in np.ndindex(D.shape):\n",
    "        possibilities = set()\n",
    "        for direction in get_plausible_path(index):\n",
    "            previous_cost = D[get_previous_index(index, direction)]\n",
    "            extension_cost = score_sum_pairs(\n",
    "                *[sequence[v-1] if v else GAP_CHAR for v, sequence in zip(direction, sequences)]\n",
    "            )\n",
    "            possibilities.add(previous_cost + extension_cost)\n",
    "        if possibilities:\n",
    "            D[index] = min(possibilities)    \n",
    "    return D\n",
    "\n",
    "def linear_backtrack(D: np.ndarray, *seq):\n",
    "    \"\"\"Compute alignment in linear time using the whole cost matrix\"\"\"\n",
    "    sequences: Tuple[int] = tuple(dna2int(x) for x in seq)\n",
    "    alignment = np.empty((len(sequences), 0), dtype = \"int\")\n",
    "    indexes = tuple(elm -1 for elm in D.shape)\n",
    "    while sum(indexes) != 0:\n",
    "        for comb in get_plausible_path(indexes):\n",
    "            previous_pos = get_previous_index(indexes, comb)\n",
    "            new_aligned_col = [sequence[v-1] if v else GAP_CHAR for v, sequence in zip(comb, sequences)]\n",
    "            if D[indexes] == D[previous_pos] + score_sum_pairs(*new_aligned_col):\n",
    "                alignment = np.column_stack((alignment, np.array(new_aligned_col)))\n",
    "                indexes = previous_pos\n",
    "                break\n",
    "    return tuple(int2dna(seq.tolist()) for seq in np.flip(alignment,axis = 1))"
   ]
  },
  {
   "attachments": {},
   "cell_type": "markdown",
   "id": "35851451",
   "metadata": {},
   "source": [
    "Finally, we define a function called global_alignment for computing the exact solution for $k$ sequences. "
   ]
  },
  {
   "cell_type": "code",
   "execution_count": 5,
   "id": "57e6b853",
   "metadata": {},
   "outputs": [],
   "source": [
    "def global_alignment(*sequences) -> MSA:\n",
    "    \"\"\"\n",
    "    Compute an optimal global alignment of 3 sequences\n",
    "    >>> global_alignment(\"\")\n",
    "    MSA(cost=0, sequences=('',))\n",
    "    >>> global_alignment(\"\", \"\")\n",
    "    MSA(cost=0, sequences=('', ''))\n",
    "    >>> global_alignment(\"A\", \"\")\n",
    "    MSA(cost=5, sequences=('A', '-'))\n",
    "    >>> global_alignment(\"AATAAT\", \"AAGG\")\n",
    "    MSA(cost=14, sequences=('AATAAT', 'AA-GG-'))\n",
    "    >>> global_alignment(\"A\", \"\", \"C\", \"GG\", \"AA\", \"C\")\n",
    "    MSA(cost=101, sequences=('-A', '--', '-C', 'GG', 'AA', '-C'))\n",
    "    >>> global_alignment(\"GTTCCGAAAGGCTAGCGCTAGGCGCC\", \"ATGGATTTATCTGCTCTTCG\", \"TGCATGCTGAAACTTCTCAACCA\")\n",
    "    MSA(cost=198, sequences=('GTTCCGAAAGGCTAGCGCTAGGC-GCC-', 'AT---GGAT--TT-AT-CTGCTC-TTCG', '-T---GCATG-CTGAAACTTCTCAACCA'))\n",
    "    \"\"\"\n",
    "    D = compute_exact_alignment(*sequences)\n",
    "    return MSA(\n",
    "        D[tuple(i-1 for i in D.shape)],\n",
    "        linear_backtrack(D, *sequences)\n",
    "        )"
   ]
  },
  {
   "attachments": {},
   "cell_type": "markdown",
   "id": "911658d1",
   "metadata": {},
   "source": [
    "### 2-P approximation\n",
    "\n",
    "First, we define a function that will find the first sequence, aka the closest one to the rest of sequences. "
   ]
  },
  {
   "cell_type": "code",
   "execution_count": 6,
   "id": "f3193935",
   "metadata": {},
   "outputs": [],
   "source": [
    "def find_first_sequence(sequences: [str])-> int:\n",
    "    \"\"\"\n",
    "    Finds the first sequence for 2-approximation algorithm\n",
    "    >>> find_first_sequence([\"AA\", \"CT\", \"CT\"])\n",
    "    1\n",
    "    \"\"\"\n",
    "    n = len(sequences)\n",
    "    shape = (n, n)\n",
    "    pairwises = np.zeros(shape,dtype=\"int\")\n",
    "    for i, j in zip(*np.triu_indices(n,k=1, m=n)):\n",
    "        pairwises[i, j] = pairwises[j, i] = global_alignment(sequences[i], sequences[j]).cost\n",
    "    return np.argmin([sum(row) for row in pairwises])      \n"
   ]
  },
  {
   "attachments": {},
   "cell_type": "markdown",
   "id": "d6f67a9a",
   "metadata": {},
   "source": [
    "After finding the first sequences, we have to iteratively extend the MSA with the rest of pairwise alignments. "
   ]
  },
  {
   "cell_type": "code",
   "execution_count": 7,
   "id": "0a8d357c",
   "metadata": {},
   "outputs": [],
   "source": [
    "def extend_MSA(M: np.ndarray , A: MSA) -> np.ndarray:\n",
    "    \"\"\"\n",
    "    Extend a MSA with a given pairwise alignment. \n",
    "    >>> x = np.array([['A', 'C'],['A', '-']])\n",
    "    >>> y = global_alignment(\"AC\", \"GC\")\n",
    "    >>> extend_MSA(x, y)\n",
    "    array([['A', 'C'],\n",
    "           ['A', '-'],\n",
    "           ['G', 'C']], dtype='<U1')\n",
    "    \"\"\"\n",
    "    A = A.sequences\n",
    "    new_msa = np.empty((M.shape[0]+1, 0), dtype = \"<U1\")\n",
    "    i, j = 0, 0\n",
    "    while i < M.shape[1] and j < len(A[0]):\n",
    "        if M[0, i] == A[0][j]:\n",
    "            new_column =  np.append(M[:, i], A[1][j])\n",
    "            new_column = new_column.reshape((len(new_column),1))\n",
    "            new_msa = np.hstack((new_column, new_msa))\n",
    "            i+=1\n",
    "            j+=1\n",
    "        elif M[0, i] == \"-\":\n",
    "            new_column =  np.append(M[:, i], \"-\")\n",
    "            new_column = new_column.reshape((len(new_column),1))\n",
    "            new_msa = np.hstack((new_column, new_msa))\n",
    "            i+=1\n",
    "        elif A[0][j] == \"-\":\n",
    "            new_column =  np.append(M.shape[0]*[\"-\"], A[1][j])\n",
    "            new_column = new_column.reshape((len(new_column),1))\n",
    "            new_msa = np.hstack((new_column, new_msa))\n",
    "            j+=1\n",
    "    while i < M.shape[1]:\n",
    "        new_column =  np.append(M[:, i], \"-\")\n",
    "        new_column = new_column.reshape((len(new_column),1))\n",
    "        new_msa = np.hstack((new_column, new_msa))\n",
    "        i+=1\n",
    "    while j < len(A[0]):\n",
    "        new_column =  np.append(M.shape[0]*[\"-\"], A[1][j])\n",
    "        new_column = new_column.reshape((len(new_column),1))\n",
    "        new_msa = np.hstack((new_column, new_msa))\n",
    "        j+=1\n",
    "    return  np.flip(new_msa, 1)\n"
   ]
  },
  {
   "attachments": {},
   "cell_type": "markdown",
   "id": "5a3f602e",
   "metadata": {},
   "source": [
    "Finally, we define a function compute_2P_approximation that will compute the 2P approximation algorithm. "
   ]
  },
  {
   "cell_type": "code",
   "execution_count": 8,
   "id": "17bd6f24",
   "metadata": {},
   "outputs": [],
   "source": [
    "def compute_2P_approximation(*sequences)-> np.ndarray:\n",
    "    \"\"\"\n",
    "    Compute the global alignment of any given sequences\n",
    "    >>> compute_2P_approximation(\"AATAAT\", \"AAGG\")\n",
    "    MSA(cost=14, sequences=('AATAAT', 'AA-GG-'))\n",
    "    >>> compute_2P_approximation(\"A\", \"C\", \"GG\", \"AA\", \"C\")\n",
    "    MSA(cost=66, sequences=('A-', 'C-', 'AA', 'GG', 'C-'))\n",
    "    >>> compute_2P_approximation(\"GTTCCGAAAGGCTAGCGCTAGGCGCC\", \"ATGGATTTATCTGCTCTTCG\", \"TGCATGCTGAAACTTCTCAACCA\")\n",
    "    MSA(cost=212, sequences=('-TGCATGCTGAAA--CT--T-CTCAAC-CA', 'ATGGAT-TT--AT--CT--G-CTCT-T-CG', '--GT-T-CCGAAAGGCTAGCGCTAGGCGCC'))\n",
    "    \"\"\"\n",
    "    first = find_first_sequence(sequences)\n",
    "    alignments = list()\n",
    "    for second, _ in enumerate(sequences):\n",
    "        if second != first:\n",
    "            alignments.append(global_alignment(sequences[first], sequences[second]))\n",
    "    MultipleAligment = np.array([ list(seq) for seq in alignments.pop().sequences]) \n",
    "    while alignments:\n",
    "        pairwise = alignments.pop()\n",
    "        MultipleAligment = extend_MSA(MultipleAligment, pairwise)\n",
    "    cost = sum(score_sum_pairs(*[dna2int(char) for char in col]) for col in MultipleAligment.T)\n",
    "    aligned_sequences = tuple(\"\".join(x) for x in MultipleAligment)\n",
    "    return MSA(cost = int(cost), sequences = aligned_sequences)"
   ]
  },
  {
   "attachments": {},
   "cell_type": "markdown",
   "id": "64da1535",
   "metadata": {},
   "source": [
    "### Testing\n",
    "\n",
    "First, we run all the inline tests:"
   ]
  },
  {
   "cell_type": "code",
   "execution_count": 9,
   "id": "6bb3237b",
   "metadata": {},
   "outputs": [
    {
     "data": {
      "text/plain": [
       "TestResults(failed=0, attempted=26)"
      ]
     },
     "execution_count": 9,
     "metadata": {},
     "output_type": "execute_result"
    }
   ],
   "source": [
    "import doctest\n",
    "doctest.testmod()"
   ]
  },
  {
   "attachments": {},
   "cell_type": "markdown",
   "id": "f026a5ad",
   "metadata": {},
   "source": [
    "Now we test our functions using \"testdata_short\""
   ]
  },
  {
   "cell_type": "code",
   "execution_count": 10,
   "id": "fefebdd3",
   "metadata": {},
   "outputs": [
    {
     "data": {
      "text/plain": [
       "MSA(cost=198, sequences=('GTTCCGAAAGGCTAGCGCTAGGC-GCC-', 'AT---GGAT--TT-AT-CTGCTC-TTCG', '-T---GCATG-CTGAAACTTCTCAACCA'))"
      ]
     },
     "execution_count": 10,
     "metadata": {},
     "output_type": "execute_result"
    }
   ],
   "source": [
    "global_alignment(*[str(x.seq) for x in SeqIO.parse(\"tests/testdata_short.txt\",'fasta')])\n"
   ]
  },
  {
   "cell_type": "code",
   "execution_count": 11,
   "id": "eb5db6f7",
   "metadata": {},
   "outputs": [
    {
     "data": {
      "text/plain": [
       "MSA(cost=212, sequences=('-TGCATGCTGAAA--CT--T-CTCAAC-CA', 'ATGGAT-TT--AT--CT--G-CTCT-T-CG', '--GT-T-CCGAAAGGCTAGCGCTAGGCGCC'))"
      ]
     },
     "execution_count": 11,
     "metadata": {},
     "output_type": "execute_result"
    }
   ],
   "source": [
    "compute_2P_approximation(*[str(x.seq) for x in SeqIO.parse(\"tests/testdata_short.txt\",'fasta')])"
   ]
  },
  {
   "attachments": {},
   "cell_type": "markdown",
   "id": "456b8808",
   "metadata": {},
   "source": [
    "As we can see, the approximate solution is only slightly larger. We also have a long test, for which we know the exact solution is 1482. Although the test is very slow for the exact solution, we can easily approximate it. "
   ]
  },
  {
   "cell_type": "code",
   "execution_count": 12,
   "id": "c26b8728",
   "metadata": {},
   "outputs": [
    {
     "data": {
      "text/plain": [
       "MSA(cost=1580, sequences=('GTTCCGAAAGGCTAGCGCTAGGCGCC-AAGCGGC-CGG-TT-TCCTTGGCGACGGAG-AGCGCGGGAATTTTAGA-TAGATTGT-AAT-TGCGGCTGCGCGGCCGCTGCCCGTGCAGCCAGAGGATCCA--GC-ACCTCTCT-TGG-GGCTTC-TCCGTC-CTCGGCGCTT-GG-AAGTACG-GA-T-CTTTTT-T-CT-CGGAGAAAAGTTC--AC-TG--GAA-CTG---', '---C------GCTGGTGC-AA-C-TC-GAA-GAC-CTA-TC-TCCTTCCCGGGGGGGCTTCTCCGGCATT-TAGG-C-C-TCGG-CGT-T-TGGAAGTACGGAGGTTTTTC-T-CGG-AAGAAAGTTCACTGG-AAGTGGAAGAAATGGATTTATCTGCTGTTCGA-ATTCAAG-AAGTACA-AAATGTCCTTCATGCTATGCAGAAAATCTTGGAG-TGTCCAATCTGTTT', 'A-T-GGATTTATCTGCTCTTCGCGTTGAAGAAGTACAAAATGTCATTAACG-CT-A--TGCA-GAAAATCTTAGAGTGTCCCATCTGTCTGGAGTTGATCAA--GGAACCTGT-CT-CCACAAAGTGTG--ACCACATATTT-TGC-AAATTT-TGCATG-CT-GAAACTT-CTCAACCAGAAGA-A-AGGGCC-T--T-CACAGTGTCCTTT--ATGTAA-GAA-TGA---'))"
      ]
     },
     "execution_count": 12,
     "metadata": {},
     "output_type": "execute_result"
    }
   ],
   "source": [
    "long_test = \"tests/testdata_long.txt\"\n",
    "compute_2P_approximation(*[str(x.seq) for x in SeqIO.parse(long_test,'fasta')])"
   ]
  },
  {
   "cell_type": "code",
   "execution_count": 13,
   "id": "449b3d18",
   "metadata": {},
   "outputs": [],
   "source": [
    "#global_alignment(*[str(x.seq) for x in SeqIO.parse(long_test,'fasta')])"
   ]
  },
  {
   "attachments": {},
   "cell_type": "markdown",
   "id": "ca8fc554",
   "metadata": {},
   "source": [
    "## Experiments\n",
    "\n",
    "What's the score of an optimal exact alignment of the first 3 sequences in brca1. "
   ]
  },
  {
   "cell_type": "code",
   "execution_count": 14,
   "id": "1c523f17",
   "metadata": {},
   "outputs": [],
   "source": [
    "fasta = SeqIO.parse(\"tests/brca1-testseqs.fasta\",'fasta')\n",
    "bos_taurus, canis_lupus, gallus_gallus, homo_sapiens, macaca_mulatta = next(fasta), next(fasta), next(fasta), next(fasta), next(fasta)"
   ]
  },
  {
   "cell_type": "code",
   "execution_count": 15,
   "id": "094347cd",
   "metadata": {},
   "outputs": [
    {
     "data": {
      "text/plain": [
       "MSA(cost=790, sequences=('ATGGATTTATCTGCGGATCATGTTGAAGAAGTACAAAATGTCCTCAATGCTATGCA-GAAAATCTTAG--AGTGTCCAATA-TGTCTGGAGTTGATCAAAGAGCCT-GTC-TCTACAAAGTGTGACC-A-CA-TATTTTGCAAATTTTGTATGC-TGAAAC-T--TCTCAACCA-GAAGAAAGGGCCTTCACAATGTCC--TTTGTGTAAGAATGA-', 'ATGGATTTATCTGCGGATCGTGTTGAAGAAGTACAAAATGTTCTTAATGCTATGCA-GAAAATCTTAG--AGTGTCCAATA-TGTCTGGAGTTGATCAAAGAGCCT-GTT-TCTACAAAGTGTGATC-A-CA-TATTTTGCAAATTTTGTATGC-TGAAAC-T--TCTCAACCA-GAGGAAGGGGCCTTCACAGTGTCC--TTTGTGTAAGAACGA-', 'GCGAAAT-GT-AAC--A-CG-GTAGAGGTGAT-CGGGGTG-CGTT-ATAC-GTGCGTGGTGACCTCGGTCGGTGT-TGACGGTGCCTGGGGTTCCTCAGAGTGTTTTGGGGTCTGAAGGATG-GACTTGTCAGTGAT-TGCCA-TTGGAGACGTGCAAAATGTGCTTTCAGCCATGCAGAA-GAA-CTTGG-AGTGTCCAGTCTGTTTAGATGTGAT'))"
      ]
     },
     "execution_count": 15,
     "metadata": {},
     "output_type": "execute_result"
    }
   ],
   "source": [
    "global_alignment(bos_taurus, canis_lupus, gallus_gallus)"
   ]
  },
  {
   "attachments": {},
   "cell_type": "markdown",
   "id": "cadf1bd8",
   "metadata": {},
   "source": [
    "What's the score of the first 5 sequences in brca1. "
   ]
  },
  {
   "cell_type": "code",
   "execution_count": 16,
   "id": "388378ba",
   "metadata": {},
   "outputs": [
    {
     "data": {
      "text/plain": [
       "MSA(cost=3295, sequences=('ATGGATTTATCTGCGGATCATGTTGAAGA-AG-TAC--AA-AAT-GTCC-TCAATGCTATGCA-GAAAATCTTAG--AGTGTCCAAT-ATGTCTGGAGTTGATCAAAGAG-CCTGT-CTCTACAAAGTGTGA-C-CA-C--A-TATTTTGCAAATT-TTG-TATGCTGAA-AC-TTCTCAACCA-GAAGAAAGGGCCT-T-CAC--A-ATGTCC--TTTGTGTAAGAATGA-', 'ATGGATTTATCTGCTGTTCGCGTTGAAGA-AG-TAC--AA-AAT-GTCA-TTAATGCTATGCA-GAAAATCTTAG--AGTGTCCAAT-CTGTCTGGAGTTGATCAAGGAA-CCTGT-CTCCACAAAGTGTGA-C-CA-C--A-TATTTTGCAGATT-TTG-CATGCTGAA-AC-TTCTCAACCA-GAAGAAAGGGCCT-T-CAC--A-GTGTCC--TTTGTGTAAGAATGA-', 'GTACCTTGATTT-CGTATTCTG-AGAGGC-TGCTGCTTAGCGGTAGCCCCTTGGT-TTCCGTG-GCAA-CGGAAA--AGCGCGGGA--AT-TACAGA-TAAATTAAA-A---CTGC-GACTGCGCGGCGTGAGCTCG-CTGA-GACTTCCTGGACGGGGGACAGGCTGTG-GG-GTTTC--TCA-GATAACTGGGCCCCTGCGCTCAGGAGGCC--TTCAC-C----CTCT-', 'GCGAA---AT--GT-AA-CACGGTAGAGGTGA-T-C--GG-GGT-G-CG-TTA-TAC-GTGCGTGGTGACCTCGGTCGGTGTT-GACGGTGCCTGGGGTTCCTCAGAGTGTTTTGGGGTCTGAAGGATG-GA-CTTGTC--AGTGAT-TGCCA-TTGGAGACGTGCAAAATGTGCTTTCAGCCATGCAGA-AGAAC-T-T-GG---A-GTGTCCAGTCTGTTTAGATGTGAT', 'ATGGATTTATCTGCGGATCGTGTTGAAGA-AG-TAC--AA-AAT-GTTC-TTAATGCTATGCA-GAAAATCTTAG--AGTGTCCAAT-ATGTCTGGAGTTGATCAAAGAG-CCTGT-TTCTACAAAGTGTGA-T-CA-C--A-TATTTTGCAAATT-TTG-TATGCTGAA-AC-TTCTCAACCA-GAGGAAGGGGCCT-T-CAC--A-GTGTCC--TTTGTGTAAGAACGA-'))"
      ]
     },
     "execution_count": 16,
     "metadata": {},
     "output_type": "execute_result"
    }
   ],
   "source": [
    "compute_2P_approximation(bos_taurus, canis_lupus, gallus_gallus, homo_sapiens, macaca_mulatta)"
   ]
  },
  {
   "attachments": {},
   "cell_type": "markdown",
   "id": "fd838d81",
   "metadata": {},
   "source": [
    "Make an experiment cómparing the scores of the alignments computed by the exact and approximate solution: "
   ]
  },
  {
   "cell_type": "code",
   "execution_count": 17,
   "id": "0df6e5e8",
   "metadata": {},
   "outputs": [],
   "source": [
    "import os\n",
    "infiles = [\"tests/testseqs/\" + x for x in os.listdir(\"tests/testseqs\")]\n",
    "exact_cost = [global_alignment(*[str(x.seq) for x in SeqIO.parse(infile,'fasta')]).cost for infile in infiles]\n",
    "approximate_cost = [compute_2P_approximation(*[str(x.seq) for x in SeqIO.parse(infile,'fasta')]).cost for infile in infiles]"
   ]
  },
  {
   "cell_type": "code",
   "execution_count": 18,
   "id": "3674edcd",
   "metadata": {},
   "outputs": [],
   "source": [
    "import pandas as pd\n",
    "dict = {'file': infiles, 'exact_cost': exact_cost, 'approximate_cost': approximate_cost} \n",
    "df = pd.DataFrame(dict)\n",
    "df.to_csv(\"experiment.csv\", index=False)"
   ]
  },
  {
   "attachments": {},
   "cell_type": "markdown",
   "id": "b4d2cbb1",
   "metadata": {},
   "source": [
    "### Full DNA dataset alignment\n",
    "\n",
    "We have tried 2 different heuristics: ClustalOmega () and MAFFT. After using the script called msa_sp_score_3k.py for computing the cost of each alignment, we have decide to use MAFFT. We also tried using TCoffee, but sequences were too long. \n",
    "\n",
    "- MAFFT: 263078\n",
    "- Clustal Omega: 276756"
   ]
  }
 ],
 "metadata": {
  "kernelspec": {
   "display_name": "base",
   "language": "python",
   "name": "python3"
  },
  "language_info": {
   "codemirror_mode": {
    "name": "ipython",
    "version": 3
   },
   "file_extension": ".py",
   "mimetype": "text/x-python",
   "name": "python",
   "nbconvert_exporter": "python",
   "pygments_lexer": "ipython3",
   "version": "3.10.9"
  }
 },
 "nbformat": 4,
 "nbformat_minor": 5
}
