{
 "cells": [
  {
   "cell_type": "code",
   "execution_count": 22,
   "id": "269bf1fb",
   "metadata": {},
   "outputs": [],
   "source": [
    "import numpy as np\n",
    "from typing import Tuple\n",
    "import itertools\n",
    "from Bio import SeqIO, SeqRecord, Seq"
   ]
  },
  {
   "cell_type": "code",
   "execution_count": 23,
   "id": "ee3d8213",
   "metadata": {},
   "outputs": [],
   "source": [
    "SCORE_MATRIX = np.matrix(\n",
    "    [[0, 5, 2, 5, 5],  # A\n",
    "    [5, 0, 5, 2, 5],  # C\n",
    "    [2, 5, 0, 5, 5],  # G\n",
    "    [5, 2, 5, 0, 5],  # T\n",
    "    [5, 5, 5, 5, 0]]  #-'\n",
    "    )\n",
    "GAP_CHAR = 4\n",
    "ALPHABET = alphabet = {'A': 0, 'C': 1, 'G': 2, 'T': 3, '-': 4}\n",
    "def dna2int(x: str)-> list[int]:\n",
    "    '''\n",
    "    >>> dna2int('ACGT-A')\n",
    "    [0, 1, 2, 3, 4, 0]\n",
    "    '''\n",
    "    return list(alphabet.get(char) for char in x)\n",
    "def int2dna(x: list[int])-> str:\n",
    "    '''\n",
    "    >>> int2dna([0, 1, 2, 3, 4, 0])\n",
    "    'ACGT-A'\n",
    "    '''\n",
    "    collapsed = \"\".join(ALPHABET)\n",
    "    return \"\".join(collapsed[i] for i in x)\n",
    "\n",
    "def score_sum_pairs(x: int, y: int, z: int)-> int:\n",
    "    \"\"\"\n",
    "    >>> score_sum_pairs(0, 0, 0)\n",
    "    0\n",
    "    >>> score_sum_pairs(0, 1, 2)\n",
    "    12\n",
    "    \"\"\"\n",
    "    return SCORE_MATRIX[x, y] + SCORE_MATRIX[x, z] + SCORE_MATRIX[y, z]"
   ]
  },
  {
   "attachments": {},
   "cell_type": "markdown",
   "id": "5389054f",
   "metadata": {},
   "source": [
    "Now, we define our function for computing the exact 3 dimensional matrix for a global alignment:"
   ]
  },
  {
   "cell_type": "code",
   "execution_count": 24,
   "id": "ae0feae0",
   "metadata": {},
   "outputs": [],
   "source": [
    "def get_plausible_combinations(index):\n",
    "    \"\"\"This function computes all possible combinations for a given index \n",
    "    assuming a global alignment. It' 1-indexed, so 0 means gap. \n",
    "    >>> get_plausible_combinations((0, 0, 0))\n",
    "    set()\n",
    "    >>> get_plausible_combinations((22, 1, 10))\n",
    "    {(0, 0, 10), (0, 1, 10), (0, 1, 0), (22, 1, 10), (22, 0, 10), (22, 0, 0), (22, 1, 0)}\n",
    "    \"\"\"\n",
    "    all_combs = np.array(list(itertools.product([0, 1], repeat=len(index))))\n",
    "    return set(tuple(index * comb) for comb in all_combs if tuple(index * comb) != (0, 0, 0))\n",
    "def get_previous_index(index, comb):\n",
    "    \"\"\"This function gets the previous index for a given combination and index\n",
    "    The combination it's 1-indexed in reference to the sequence\n",
    "    >>> get_previous_index((1, 1, 1), (1, 1, 1))\n",
    "    (0, 0, 0)\n",
    "    >>> get_previous_index((15, 12, 1), (1, 0, 1))\n",
    "    (14, 12, 0)\n",
    "    \"\"\"\n",
    "    return tuple(i - 1 if v else i for i, v in zip(index, comb))\n",
    "\n",
    "def compute_3k_matrix(seq1: str, seq2: str, seq3: str)-> np.ndarray:\n",
    "    \"\"\"\n",
    "    >>> compute_3k_matrix(\"\", \"\", \"\")[-1, -1, -1]\n",
    "    0\n",
    "    >>> D = compute_3k_matrix(\"GTTCCGAAAGGCTAGCGCTAGGCGCC\", \"ATGGATTTATCTGCTCTTCG\", \"TGCATGCTGAAACTTCTCAACCA\")\n",
    "    >>> D[-1, -1, -1]\n",
    "    198\n",
    "    \"\"\"\n",
    "    x, y, z = dna2int(seq1), dna2int(seq2), dna2int(seq3)\n",
    "    shapes = (len(x) + 1, len(y) +1, len(z) +1)\n",
    "    D = np.zeros(shapes, dtype = \"int\")\n",
    "    for index in np.ndindex(D.shape):\n",
    "        possibilities = set()\n",
    "        for comb in get_plausible_combinations(index):\n",
    "            previous_cost = D[get_previous_index(index, comb)]\n",
    "            extension_cost = score_sum_pairs(\n",
    "                *[sequence[v-1] if v else GAP_CHAR for v, sequence in zip(comb, [x, y, z])]\n",
    "            )\n",
    "            possibilities.add(previous_cost + extension_cost)\n",
    "        if possibilities:\n",
    "            D[index] = min(possibilities)    \n",
    "    return D\n",
    "\n"
   ]
  },
  {
   "attachments": {},
   "cell_type": "markdown",
   "id": "e0bfa41e",
   "metadata": {},
   "source": [
    "Now are going to run a longer test (this should return a 1482 cost)"
   ]
  },
  {
   "cell_type": "code",
   "execution_count": 25,
   "id": "2a3acd55",
   "metadata": {},
   "outputs": [],
   "source": [
    "# long_test = \"tests/testdata_long.txt\"\n",
    "# compute_3k_matrix(\n",
    "#     *[str(x.seq) for x in SeqIO.parse(long_test,'fasta')]\n",
    "#     )[-1, -1, -1]"
   ]
  },
  {
   "cell_type": "code",
   "execution_count": 26,
   "id": "9399949d",
   "metadata": {},
   "outputs": [],
   "source": [
    "def linear_backtrack(D: np.ndarray,A: list[str], B: list[str], C: list[str])-> Tuple[str, str, str]:\n",
    "    \"\"\"Compute alignment in linear time using the whole cost matrix\"\"\"\n",
    "    aligned_sequences = [list(), list(), list()]\n",
    "    A, B, C = sequences = [dna2int(A), dna2int(B), dna2int(C)] \n",
    "    x, y, z = index = tuple(elm -1 for elm in D.shape)\n",
    "    while x or y or z:\n",
    "        for comb in get_plausible_combinations(index):\n",
    "            previous_pos = get_previous_index(index, comb)\n",
    "            new_aligned_col = [sequence[v-1] if v else GAP_CHAR for v, sequence in zip(comb, sequences)]\n",
    "            if D[x,y, z] == D[previous_pos] + score_sum_pairs(*new_aligned_col):\n",
    "                for seq, char in zip(aligned_sequences, new_aligned_col): seq.append(char)\n",
    "                index = x, y, z = previous_pos\n",
    "                break\n",
    "    return tuple(int2dna(reversed(seq)) for seq in aligned_sequences)\n",
    "\n",
    "def calculate_3k_alignment(seq1: str,seq2: str,seq3: str):\n",
    "    \"\"\"\n",
    "    Compute an optimal global alignment of 3 sequences\n",
    "    >>> calculate_3k_alignment(\"GTTCCGAAAGGCTAGCGCTAGGCGCC\", \"ATGGATTTATCTGCTCTTCG\", \"TGCATGCTGAAACTTCTCAACCA\")\n",
    "    ('GTTCCGAAAGGCTAGCGCTAGGC-GCC-', 'AT---GGAT--TT-AT-CTGCTC-TTCG', '-T---GCATG-CTGAAACTTCTCAACCA')\n",
    "    \"\"\"\n",
    "    D = compute_3k_matrix(seq1, seq2, seq3)\n",
    "    return linear_backtrack(D, seq1, seq2, seq3)\n",
    "\n"
   ]
  },
  {
   "cell_type": "code",
   "execution_count": 27,
   "id": "6bb3237b",
   "metadata": {},
   "outputs": [
    {
     "data": {
      "text/plain": [
       "TestResults(failed=0, attempted=12)"
      ]
     },
     "execution_count": 27,
     "metadata": {},
     "output_type": "execute_result"
    }
   ],
   "source": [
    "import doctest\n",
    "doctest.testmod()"
   ]
  }
 ],
 "metadata": {
  "kernelspec": {
   "display_name": "Python 3 (ipykernel)",
   "language": "python",
   "name": "python3"
  },
  "language_info": {
   "codemirror_mode": {
    "name": "ipython",
    "version": 3
   },
   "file_extension": ".py",
   "mimetype": "text/x-python",
   "name": "python",
   "nbconvert_exporter": "python",
   "pygments_lexer": "ipython3",
   "version": "3.10.9"
  }
 },
 "nbformat": 4,
 "nbformat_minor": 5
}
