{
 "cells": [
  {
   "attachments": {},
   "cell_type": "markdown",
   "metadata": {},
   "source": [
    "## Main code"
   ]
  },
  {
   "attachments": {},
   "cell_type": "markdown",
   "metadata": {},
   "source": [
    "Import required modules:"
   ]
  },
  {
   "cell_type": "code",
   "execution_count": 58,
   "metadata": {},
   "outputs": [],
   "source": [
    "import numpy as np\n",
    "from Bio import SeqIO\n",
    "#import array_to_latex as a2l "
   ]
  },
  {
   "attachments": {},
   "cell_type": "markdown",
   "metadata": {},
   "source": [
    "Define general functions for global pairwise alignment:"
   ]
  },
  {
   "cell_type": "code",
   "execution_count": 59,
   "metadata": {},
   "outputs": [],
   "source": [
    "ALPHABET = alphabet = {'A': 0, 'C': 1, 'G': 2, 'T': 3, '-': 4}\n",
    "def dna2int(x: str)-> list[int]:\n",
    "    '''\n",
    "    >>> dna2int('ACGT-A')\n",
    "    [0, 1, 2, 3, 4, 0]\n",
    "    '''\n",
    "    return list(alphabet.get(char) for char in x)\n",
    "def int2dna(x: list[int])-> str:\n",
    "    '''\n",
    "    >>> int2dna([0, 1, 2, 3, 4, 0])\n",
    "    'ACGT-A'\n",
    "    '''\n",
    "    collapsed = \"\".join(ALPHABET)\n",
    "    return \"\".join(collapsed[i] for i in x)\n",
    "    \n",
    "def generalized_C(\n",
    "    i: int, j: int, dyn_mat: np.ndarray,\n",
    "    gap_cost: int, cost: callable, optimize_fn: callable,\n",
    "    sequence1: list[int], sequence2: list[int]\n",
    "    )-> int:\n",
    "    '''\n",
    "    Calculate cost of cell in dynamic table for global pairwise alignment. \n",
    "    '''\n",
    "    if dyn_mat[i, j] is not None: return dyn_mat[i, j]\n",
    "    match i:\n",
    "        case 0 if j == 0: return 0\n",
    "        case _ if j == 0: return i * gap_cost\n",
    "        case 0 if j != 0: return j * gap_cost\n",
    "    args = [dyn_mat, gap_cost, cost, optimize_fn, sequence1, sequence2]\n",
    "    return optimize_fn(\n",
    "        [generalized_C(i-1, j, *args) + gap_cost,\n",
    "        generalized_C(i, j-1, *args) + gap_cost,\n",
    "        generalized_C(i-1, j-1, *args) + cost(sequence1[i-1],sequence2[j-1])\n",
    "        ])\n",
    "\n",
    "\n",
    "def fill_global_alignment_matrix(\n",
    "    x: list[int], y: list[int], score_matrix: np.ndarray, gap_cost: int, optimize_fn: callable\n",
    "    ) -> np.ndarray:\n",
    "    '''\n",
    "    Calculate the dynamic matrix for a global pairwise alignment. \n",
    "    '''\n",
    "    # Init empty matrix\n",
    "    dim = (len(x)+1, len(y)+1)\n",
    "    dyn_mat = np.full(dim, None)\n",
    "    # Define C\n",
    "    def C(i: int, j: int)-> int:\n",
    "        return generalized_C(\n",
    "            i, j, dyn_mat, gap_cost,\n",
    "            cost= lambda x, y : score_matrix[x, y],\n",
    "            optimize_fn=optimize_fn,sequence1=x, sequence2= y)\n",
    "    # Fill matrix\n",
    "    for i in range(dyn_mat.shape[0]):\n",
    "        for j in range(dyn_mat.shape[1]):\n",
    "            dyn_mat[i, j] = C(i, j)\n",
    "    return dyn_mat\n",
    "\n",
    "def generalized_optimal_aligment_cost(\n",
    "    x: str, y: str, score_matrix: np.ndarray, gap_cost: int, optimize_fn: callable\n",
    "    ) -> int:\n",
    "    '''\n",
    "    Calculate the optimal cost of a global pairwise alignment. \n",
    "    '''\n",
    "    # Convert DNA to list of int\n",
    "    x, y = dna2int(x), dna2int(y)\n",
    "    dyn_mat = fill_global_alignment_matrix(x, y, score_matrix, gap_cost, optimize_fn)\n",
    "    return dyn_mat[len(x), len(y)]\n"
   ]
  },
  {
   "attachments": {},
   "cell_type": "markdown",
   "metadata": {},
   "source": [
    "## Optimal alignment cost\n",
    "\n",
    "Finally, define a concrete function for solving our problem under this project specifications. \n",
    "\n",
    "We define the score matrix as follows:"
   ]
  },
  {
   "cell_type": "code",
   "execution_count": 60,
   "metadata": {},
   "outputs": [],
   "source": [
    "SCORE_MATRIX = np.matrix(\n",
    "    [[10, 2, 5, 2],\n",
    "    [2, 10, 2, 5],\n",
    "    [5, 2, 10, 2],\n",
    "    [2, 5, 2, 10]]\n",
    "    )\n",
    "#a2l.to_ltx(SCORE_MATRIX)"
   ]
  },
  {
   "attachments": {},
   "cell_type": "markdown",
   "metadata": {},
   "source": [
    "\\begin{bmatrix}\n",
    "  10.00 &  2.00 &  5.00 &  2.00\\\\\n",
    "  2.00 &  10.00 &  2.00 &  5.00\\\\\n",
    "  5.00 &  2.00 &  10.00 &  2.00\\\\\n",
    "  2.00 &  5.00 &  2.00 &  10.00\n",
    "\\end{bmatrix}"
   ]
  },
  {
   "cell_type": "code",
   "execution_count": 61,
   "metadata": {},
   "outputs": [],
   "source": [
    "\n",
    "def optimal_aligment_cost(x: str, y: str) -> int:\n",
    "    '''\n",
    "    Calculate optimal alignment cost for this project specifications. \n",
    "    >>> optimal_aligment_cost(\"\", \"\")\n",
    "    0\n",
    "    >>> optimal_aligment_cost(\"TCCAGAGA\", \"TCGAT\")\n",
    "    27\n",
    "    >>> optimal_aligment_cost(\"CGTGTCAAGTCT\", \"ACGTCGTAGCTAGG\")\n",
    "    61\n",
    "    '''\n",
    "    return generalized_optimal_aligment_cost(\n",
    "        x, y, SCORE_MATRIX, -5, np.max\n",
    "    )\n"
   ]
  },
  {
   "attachments": {},
   "cell_type": "markdown",
   "metadata": {},
   "source": [
    "## Running doctest"
   ]
  },
  {
   "cell_type": "code",
   "execution_count": 83,
   "metadata": {},
   "outputs": [
    {
     "name": "stdout",
     "output_type": "stream",
     "text": [
      "Trying:\n",
      "    dna2int('ACGT-A')\n",
      "Expecting:\n",
      "    [0, 1, 2, 3, 4, 0]\n",
      "ok\n",
      "Trying:\n",
      "    int2dna([0, 1, 2, 3, 4, 0])\n",
      "Expecting:\n",
      "    'ACGT-A'\n",
      "ok\n",
      "Trying:\n",
      "    optimal_aligment(\"\", \"\")\n",
      "Expecting:\n",
      "    ('', '')\n",
      "ok\n",
      "Trying:\n",
      "    optimal_aligment(\"TCCAGAGA\", \"TCGAT\")\n",
      "Expecting:\n",
      "    ('TCCAGAGA', 'T-C-GA-T')\n",
      "ok\n",
      "Trying:\n",
      "    optimal_aligment(\"CGTGTCAAGTCT\", \"ACGTCGTAGCTAGG\")\n",
      "Expecting:\n",
      "    ('-CGT-GTCAAGT-CT', 'ACGTCGT-AGCTAGG')\n",
      "ok\n",
      "Trying:\n",
      "    optimal_aligment_cost(\"\", \"\")\n",
      "Expecting:\n",
      "    0\n",
      "ok\n",
      "Trying:\n",
      "    optimal_aligment_cost(\"TCCAGAGA\", \"TCGAT\")\n",
      "Expecting:\n",
      "    27\n",
      "ok\n",
      "Trying:\n",
      "    optimal_aligment_cost(\"CGTGTCAAGTCT\", \"ACGTCGTAGCTAGG\")\n",
      "Expecting:\n",
      "    61\n",
      "ok\n",
      "7 items had no tests:\n",
      "    __main__\n",
      "    __main__.C\n",
      "    __main__.fill_global_alignment_matrix\n",
      "    __main__.generalized_C\n",
      "    __main__.generalized_optimal_aligment_cost\n",
      "    __main__.optimal_aligment_cost_from_fasta\n",
      "    __main__.recursive_back_tracking\n",
      "4 items passed all tests:\n",
      "   1 tests in __main__.dna2int\n",
      "   1 tests in __main__.int2dna\n",
      "   3 tests in __main__.optimal_aligment\n",
      "   3 tests in __main__.optimal_aligment_cost\n",
      "8 tests in 11 items.\n",
      "8 passed and 0 failed.\n",
      "Test passed.\n"
     ]
    },
    {
     "data": {
      "text/plain": [
       "TestResults(failed=0, attempted=8)"
      ]
     },
     "execution_count": 83,
     "metadata": {},
     "output_type": "execute_result"
    }
   ],
   "source": [
    "import doctest\n",
    "doctest.testmod(verbose=True)"
   ]
  },
  {
   "attachments": {},
   "cell_type": "markdown",
   "metadata": {},
   "source": [
    "## Question 1\n",
    "What is the optimal (here maximal) cost of an alignment of AATAAT and AAGG using the above substitution matrix and gap cost -5?"
   ]
  },
  {
   "cell_type": "code",
   "execution_count": 63,
   "metadata": {},
   "outputs": [
    {
     "data": {
      "text/plain": [
       "20"
      ]
     },
     "execution_count": 63,
     "metadata": {},
     "output_type": "execute_result"
    }
   ],
   "source": [
    "optimal_aligment_cost(\"AATAAT\", \"AAGG\")"
   ]
  },
  {
   "attachments": {},
   "cell_type": "markdown",
   "metadata": {},
   "source": [
    "## Question 2\n",
    "What is the optimal (here maximal) cost of an alignment of seq1.fasta and seq2.fasta using the same substitution matrix and gap cost? (You probably want to implement the algorithm for computing the cost of an optimal alignment.)"
   ]
  },
  {
   "cell_type": "code",
   "execution_count": 64,
   "metadata": {},
   "outputs": [],
   "source": [
    "def optimal_aligment_cost_from_fasta(path1: str, path2: str)-> int:\n",
    "    x: SeqIO.SeqRecord = next(SeqIO.parse(path1,'fasta'))\n",
    "    y: SeqIO.SeqRecord = next(SeqIO.parse(path2,'fasta')) \n",
    "    return optimal_aligment_cost(x.seq, y.seq)\n"
   ]
  },
  {
   "cell_type": "code",
   "execution_count": 65,
   "metadata": {},
   "outputs": [
    {
     "data": {
      "text/plain": [
       "1346"
      ]
     },
     "execution_count": 65,
     "metadata": {},
     "output_type": "execute_result"
    }
   ],
   "source": [
    "optimal_aligment_cost_from_fasta(\"seq1.fasta\", \"seq2.fasta\")"
   ]
  },
  {
   "cell_type": "code",
   "execution_count": 66,
   "metadata": {},
   "outputs": [
    {
     "data": {
      "text/plain": [
       "([3, 0, 0, 3, 0, 0], [4, 2, 2, 4, 0, 0])"
      ]
     },
     "execution_count": 66,
     "metadata": {},
     "output_type": "execute_result"
    }
   ],
   "source": [
    "\n",
    "\n",
    "x, y = dna2int(\"AATAAT\"), dna2int(\"AAGG\")\n",
    "# Init empty matrix\n",
    "dim = (len(x)+1, len(y)+1)\n",
    "dyn_mat = np.full(dim, None)\n",
    "gap_cost = -5\n",
    "# Define C\n",
    "def C(i: int, j: int)-> int:\n",
    "    return generalized_C(\n",
    "        i, j, dyn_mat, gap_cost,\n",
    "        cost= lambda x, y : SCORE_MATRIX[x, y],\n",
    "        optimize_fn=np.max,sequence1=x, sequence2= y)\n",
    "# Fill matrix\n",
    "for i in range(dyn_mat.shape[0]):\n",
    "    for j in range(dyn_mat.shape[1]):\n",
    "        dyn_mat[i, j] = C(i, j)\n",
    "\n",
    "recursive_back_tracking(len(x), len(y), dyn_mat, x, y, SCORE_MATRIX, gap_cost)\n"
   ]
  },
  {
   "cell_type": "code",
   "execution_count": 71,
   "metadata": {},
   "outputs": [],
   "source": [
    "from typing import Tuple\n",
    "def recursive_back_tracking(\n",
    "    i: int, j: int, T: np.ndarray,\n",
    "    A: list[int], B: list[int], score_matrix: np.ndarray, gap_cost: int,\n",
    "    aligned_1 = None, aligned_2 = None\n",
    "    )-> Tuple[list[int], list[int]]:\n",
    "    if aligned_1 is None and aligned_2 is None:\n",
    "        aligned_1, aligned_2 = list(), list()\n",
    "    cost = lambda x, y : score_matrix[x, y]\n",
    "    args = [T, A, B, score_matrix, gap_cost, aligned_1, aligned_2]\n",
    "    if (i > 0) and (j > 0) and T[i,j] == T[i-1, j-1] + cost(A[i-1], B[j-1]):\n",
    "        aligned_1.append(A[i-1])\n",
    "        aligned_2.append(B[j-1])\n",
    "        return recursive_back_tracking(i-1, j-1, *args)\n",
    "    if (i > 0) and (j >= 0) and T[i,j] == T[i-1,j] + gap_cost:\n",
    "        aligned_1.append(A[i-1])\n",
    "        aligned_2.append(ALPHABET[\"-\"])\n",
    "        return recursive_back_tracking(i-1, j, *args)\n",
    "    if (i>=0) and (j > 0) and T[i,j] == T[i,j-1] + gap_cost:\n",
    "        aligned_1.append(ALPHABET[\"-\"])\n",
    "        aligned_2.append(B[j-1])\n",
    "        return recursive_back_tracking(i, j-1, *args)\n",
    "    return (aligned_1, aligned_2)\n"
   ]
  },
  {
   "cell_type": "code",
   "execution_count": 82,
   "metadata": {},
   "outputs": [],
   "source": [
    "def optimal_aligment(x: str, y: str) -> Tuple[str, str]:\n",
    "    '''\n",
    "    Calculate one optimal alignment for this project specifications. \n",
    "    >>> optimal_aligment(\"\", \"\")\n",
    "    ('', '')\n",
    "    >>> optimal_aligment(\"TCCAGAGA\", \"TCGAT\")\n",
    "    ('TCCAGAGA', 'T-C-GA-T')\n",
    "    >>> optimal_aligment(\"CGTGTCAAGTCT\", \"ACGTCGTAGCTAGG\")\n",
    "    ('-CGT-GTCAAGT-CT', 'ACGTCGT-AGCTAGG')\n",
    "    '''\n",
    "    # Convert DNA to list of int\n",
    "    x, y = dna2int(x), dna2int(y)\n",
    "    dyn_mat = fill_global_alignment_matrix(x, y, SCORE_MATRIX, -5, np.max)\n",
    "    aln_1, aln_2 = recursive_back_tracking(\n",
    "        len(x), len(y), dyn_mat, x, y, SCORE_MATRIX, gap_cost\n",
    "        )\n",
    "    \n",
    "    return (int2dna(reversed(aln_1)), int2dna(reversed(aln_2)))"
   ]
  },
  {
   "attachments": {},
   "cell_type": "markdown",
   "metadata": {},
   "source": [
    "## Question 3 (optional)\n",
    "How does an optimal alignment look like for the above two pairs of sequences using the given substitution matrix and gap cost -5? (you probably want to implement the algorithm for finding an optimal alignment by backtracking through the dynamic programming table.)"
   ]
  },
  {
   "cell_type": "code",
   "execution_count": 12,
   "metadata": {},
   "outputs": [],
   "source": [
    "# def get_optimal_alignment(\n",
    "#     A: str, B: str,\n",
    "#     score_mat: np.ndarray, gap_cost=-5, opt_fn=np.max\n",
    "#     ) -> str:\n",
    "#     T = initialize_matrix(A, B)\n",
    "#     A, B = dna2int(A), dna2int(B)\n",
    "#     T = fill_matrix(\n",
    "#         T, A, B, score_mat,\n",
    "#         gap_cost, opt_fn\n",
    "#     )\n",
    "#     def cost(x: int, y: int):\n",
    "#         return score_mat[x, y]\n",
    "#     def backtracking(i: int, j: int):\n",
    "#         if (i > 0) and (j > 0) and (T[i,j] == T[i-1, j-1] + cost(A[i], B[j])):\n",
    "#             return backtracking(i-1, j-1)\n",
    "#         if (i > 0) and (j >= 0) and (T[i,j] == T[i-1,j] + gap_cost):\n",
    "#             return backtracking(i-1, j)\n",
    "#         if (i>=0) and (j > 0) and (T[i,j] == T[i,j-1] + gap_cost):\n",
    "#             return backtracking(i, j-1)\n",
    "#     return backtracking(len(A), len(B))"
   ]
  },
  {
   "cell_type": "code",
   "execution_count": 11,
   "metadata": {},
   "outputs": [],
   "source": [
    "# def get_optimal_alignment(\n",
    "#     A: str, B: str,\n",
    "#     score_mat: np.ndarray, gap_cost=-5, opt_fn=np.max\n",
    "#     ) -> str:\n",
    "#     T = initialize_matrix(A, B)\n",
    "#     A, B = dna2int(A), dna2int(B)\n",
    "#     T = fill_matrix(\n",
    "#         T, A, B, score_mat,\n",
    "#         gap_cost, opt_fn\n",
    "#     )\n",
    "#     def cost(x: int, y: int):\n",
    "#         return score_mat[x, y]\n",
    "#     path = []\n",
    "#     def backtracking(i: int, j: int):\n",
    "#         if (i > 0) and (j > 0) and (T[i,j] == T[i-1, j-1] + cost(A[i-1], B[j-1])):\n",
    "#             path.append((i-1, j-1))\n",
    "#             #print(f\"i: {i-1}, j: {j-1}\")\n",
    "#             return backtracking(i-1, j-1)\n",
    "#         if (i > 0) and (j >= 0) and (T[i,j] == T[i-1,j] + gap_cost):\n",
    "#             #print(f\"i: {i-1}, j: {j}\")\n",
    "#             path.append((i-1, j))\n",
    "#             return backtracking(i-1, j)\n",
    "#         if (i>=0) and (j > 0) and (T[i,j] == (T[i,j-1] + gap_cost)):\n",
    "#             #print(f\"i: {i}, j: {j-1}\")\n",
    "#             path.append((i, j-1))\n",
    "#             return backtracking(i, j-1)\n",
    "#     backtracking(len(A), len(B))\n",
    "#     path.reverse()\n",
    "#     old_index1, old_index2 = 0, 0\n",
    "#     new_seq1, new_seq2 = [], []\n",
    "#     for new_index1, new_index2 in path[1:]:\n",
    "#         if (old_index1 +1) == new_index1 and (old_index2+1) == new_index2:\n",
    "#             new_seq1.append(A[old_index1])\n",
    "#             new_seq2.append(B[old_index2])\n",
    "#         if old_index1 == new_index1 and (old_index2+1) == new_index2:\n",
    "#             new_seq1.append(-1)\n",
    "#             new_seq2.append(B[old_index2])\n",
    "#         if (old_index1 +1) == new_index1 and old_index2 == new_index2:\n",
    "#             new_seq1.append(A[old_index1])\n",
    "#             new_seq2.append(-1)\n",
    "#         old_index1, old_index2 = new_index1, new_index2\n",
    "#     return (\n",
    "#         \"\".join(from_number_to_dna(x) for x in new_seq1),\n",
    "#         \"\".join(from_number_to_dna(x) for x in new_seq2)\n",
    "#         )\n",
    "\n",
    "\n",
    "# score_mat = np.matrix(\n",
    "# [[10, 2, 5, 2],\n",
    "# [2, 10, 2, 5],\n",
    "# [5, 2, 10, 2],\n",
    "# [2, 5, 2, 10]]\n",
    "# )\n",
    "\n",
    "# print(get_optimal_alignment(\n",
    "#     'TCCAGAGA', 'TCGAT',\n",
    "#     score_mat, gap_cost=-5, opt_fn=np.max\n",
    "#     ))"
   ]
  }
 ],
 "metadata": {
  "kernelspec": {
   "display_name": "Python 3",
   "language": "python",
   "name": "python3"
  },
  "language_info": {
   "codemirror_mode": {
    "name": "ipython",
    "version": 3
   },
   "file_extension": ".py",
   "mimetype": "text/x-python",
   "name": "python",
   "nbconvert_exporter": "python",
   "pygments_lexer": "ipython3",
   "version": "3.10.6"
  },
  "orig_nbformat": 4,
  "vscode": {
   "interpreter": {
    "hash": "767d51c1340bd893661ea55ea3124f6de3c7a262a8b4abca0554b478b1e2ff90"
   }
  }
 },
 "nbformat": 4,
 "nbformat_minor": 2
}
