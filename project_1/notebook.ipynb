{
 "cells": [
  {
   "attachments": {},
   "cell_type": "markdown",
   "metadata": {},
   "source": [
    "## Main code"
   ]
  },
  {
   "cell_type": "code",
   "execution_count": 24,
   "metadata": {},
   "outputs": [],
   "source": [
    "import numpy as np\n",
    "def initialize_matrix(x: str, y:str)->np.ndarray:\n",
    "    dim = (len(x)+1, len(y)+1)\n",
    "    return np.full(dim, None)\n",
    "def convert_dna(x: str)-> list[int]:\n",
    "        alphabet = {'A': 0, 'C': 1, 'G': 2, 'T': 3}\n",
    "        return list(alphabet.get(char) for char in x)\n",
    "\n",
    "def fill_matrix(\n",
    "    mat: np.ndarray, A: list[int], B: list[int],\n",
    "    score_matrix: np.ndarray, gap_cost: int,\n",
    "    opt_fn = np.min\n",
    "    ):\n",
    "    def cost(x: int, y: int):\n",
    "        return score_matrix[x, y]\n",
    "    def C(i: int, j: int):\n",
    "        if mat[i, j] is not None: return mat[i, j]\n",
    "        match i:\n",
    "            case 0 if j == 0:\n",
    "                return 0\n",
    "            case _ if j == 0:\n",
    "                return i * gap_cost\n",
    "            case 0 if j != 0:\n",
    "                return j * gap_cost\n",
    "        return opt_fn([\n",
    "            C(i-1, j) + gap_cost,\n",
    "            C(i, j-1) + gap_cost,\n",
    "            C(i-1, j-1) + cost(A[i-1],B[j-1])\n",
    "        ])\n",
    "\n",
    "    for i in range(mat.shape[0]):\n",
    "        for j in range(mat.shape[1]):\n",
    "            mat[i, j] = C(i, j)\n",
    "    return mat\n",
    "    \n",
    "def compute_optimal_aligment_cost(\n",
    "    x: str, y: str, score_mat: np.ndarray,\n",
    "    gap_cost = 1, opt_fn = np.min\n",
    "    ):\n",
    "    dyn_mat = initialize_matrix(x, y)\n",
    "    dyn_mat = fill_matrix(\n",
    "        dyn_mat, convert_dna(x), convert_dna(y), score_mat,\n",
    "        gap_cost, opt_fn\n",
    "    )\n",
    "    return dyn_mat[len(x), len(y)]\n"
   ]
  },
  {
   "attachments": {},
   "cell_type": "markdown",
   "metadata": {},
   "source": [
    "Example 1:"
   ]
  },
  {
   "cell_type": "code",
   "execution_count": 25,
   "metadata": {},
   "outputs": [
    {
     "data": {
      "text/plain": [
       "27"
      ]
     },
     "execution_count": 25,
     "metadata": {},
     "output_type": "execute_result"
    }
   ],
   "source": [
    "score_mat = np.matrix(\n",
    "[[10, 2, 5, 2],\n",
    "[2, 10, 2, 5],\n",
    "[5, 2, 10, 2],\n",
    "[2, 5, 2, 10]]\n",
    ")\n",
    "\n",
    "compute_optimal_aligment_cost('TCGAT', 'TCCAGAGA', score_mat, gap_cost=-5, opt_fn=np.max)"
   ]
  },
  {
   "attachments": {},
   "cell_type": "markdown",
   "metadata": {},
   "source": [
    "Example 2"
   ]
  },
  {
   "cell_type": "code",
   "execution_count": 26,
   "metadata": {},
   "outputs": [
    {
     "data": {
      "text/plain": [
       "61"
      ]
     },
     "execution_count": 26,
     "metadata": {},
     "output_type": "execute_result"
    }
   ],
   "source": [
    "compute_optimal_aligment_cost('CGTGTCAAGTCT', 'ACGTCGTAGCTAGG', score_mat, gap_cost=-5, opt_fn=np.max)"
   ]
  },
  {
   "attachments": {},
   "cell_type": "markdown",
   "metadata": {},
   "source": [
    "Question 1: What is the optimal (here maximal) cost of an alignment of AATAAT and AAGG using the above substitution matrix and gap cost -5?"
   ]
  },
  {
   "cell_type": "code",
   "execution_count": 27,
   "metadata": {},
   "outputs": [
    {
     "data": {
      "text/plain": [
       "20"
      ]
     },
     "execution_count": 27,
     "metadata": {},
     "output_type": "execute_result"
    }
   ],
   "source": [
    "seq1 = \"AATAAT\"\n",
    "seq2 = \"AAGG\"\n",
    "compute_optimal_aligment_cost(seq1, seq2,  score_mat, gap_cost=-5, opt_fn=np.max)"
   ]
  },
  {
   "cell_type": "code",
   "execution_count": 28,
   "metadata": {},
   "outputs": [
    {
     "name": "stdout",
     "output_type": "stream",
     "text": [
      "Defaulting to user installation because normal site-packages is not writeable\n",
      "Requirement already satisfied: biopython in /home/currocam/.local/lib/python3.10/site-packages (1.80)\n",
      "Requirement already satisfied: numpy in /home/currocam/.local/lib/python3.10/site-packages (from biopython) (1.23.4)\n",
      "\n",
      "\u001b[1m[\u001b[0m\u001b[34;49mnotice\u001b[0m\u001b[1;39;49m]\u001b[0m\u001b[39;49m A new release of pip available: \u001b[0m\u001b[31;49m22.3.1\u001b[0m\u001b[39;49m -> \u001b[0m\u001b[32;49m23.0\u001b[0m\n",
      "\u001b[1m[\u001b[0m\u001b[34;49mnotice\u001b[0m\u001b[1;39;49m]\u001b[0m\u001b[39;49m To update, run: \u001b[0m\u001b[32;49mpython3.10 -m pip install --upgrade pip\u001b[0m\n"
     ]
    }
   ],
   "source": [
    "!pip3.10 install biopython"
   ]
  },
  {
   "cell_type": "code",
   "execution_count": 29,
   "metadata": {},
   "outputs": [
    {
     "data": {
      "text/plain": [
       "1346"
      ]
     },
     "execution_count": 29,
     "metadata": {},
     "output_type": "execute_result"
    }
   ],
   "source": [
    "from Bio import SeqIO\n",
    "sequences1 = SeqIO.parse(\"seq1.fasta\",'fasta')\n",
    "sequences2 = SeqIO.parse(\"seq2.fasta\",'fasta')\n",
    "compute_optimal_aligment_cost(\n",
    "    next(sequences1), next(sequences2),  score_mat, gap_cost=-5, opt_fn=np.max\n",
    "    )"
   ]
  },
  {
   "attachments": {},
   "cell_type": "markdown",
   "metadata": {},
   "source": [
    "Question 3 (optional): How does an optimal alignment look like for the above two pairs of sequences using the given substitution matrix and gap cost -5? (you probably want to implement the algorithm for finding an optimal alignment by backtracking through the dynamic programming table.)"
   ]
  },
  {
   "cell_type": "code",
   "execution_count": 30,
   "metadata": {},
   "outputs": [],
   "source": [
    "def get_optimal_alignment(\n",
    "    A: str, B: str,\n",
    "    score_mat: np.ndarray, gap_cost=-5, opt_fn=np.max\n",
    "    ) -> str:\n",
    "    T = initialize_matrix(A, B)\n",
    "    A, B = convert_dna(A), convert_dna(B)\n",
    "    T = fill_matrix(\n",
    "        T, A, B, score_mat,\n",
    "        gap_cost, opt_fn\n",
    "    )\n",
    "    def cost(x: int, y: int):\n",
    "        return score_mat[x, y]\n",
    "    def backtracking(i: int, j: int):\n",
    "        if (i > 0) and (j > 0) and (T[i,j] == T[i-1, j-1] + cost(A[i], B[j])):\n",
    "            return backtracking(i-1, j-1)\n",
    "        if (i > 0) and (j >= 0) and (T[i,j] == T[i-1,j] + gap_cost):\n",
    "            return backtracking(i-1, j)\n",
    "        if (i>=0) and (j > 0) and (T[i,j] == T[i,j-1] + gap_cost):\n",
    "            return backtracking(i, j-1)\n",
    "    return backtracking(len(A), len(B))"
   ]
  },
  {
   "cell_type": "code",
   "execution_count": 31,
   "metadata": {},
   "outputs": [
    {
     "name": "stdout",
     "output_type": "stream",
     "text": [
      "('TCCAGAG', 'T-C-GA-')\n"
     ]
    }
   ],
   "source": [
    "def from_number_to_dna(x: int):\n",
    "    match x:\n",
    "        case -1: return \"-\"\n",
    "        case 0: return \"A\"\n",
    "        case 1: return \"C\"\n",
    "        case 2: return \"G\"\n",
    "        case 3: return \"T\"\n",
    "\n",
    "def get_optimal_alignment(\n",
    "    A: str, B: str,\n",
    "    score_mat: np.ndarray, gap_cost=-5, opt_fn=np.max\n",
    "    ) -> str:\n",
    "    T = initialize_matrix(A, B)\n",
    "    A, B = convert_dna(A), convert_dna(B)\n",
    "    T = fill_matrix(\n",
    "        T, A, B, score_mat,\n",
    "        gap_cost, opt_fn\n",
    "    )\n",
    "    def cost(x: int, y: int):\n",
    "        return score_mat[x, y]\n",
    "    path = []\n",
    "    def backtracking(i: int, j: int):\n",
    "        if (i > 0) and (j > 0) and (T[i,j] == T[i-1, j-1] + cost(A[i-1], B[j-1])):\n",
    "            path.append((i-1, j-1))\n",
    "            #print(f\"i: {i-1}, j: {j-1}\")\n",
    "            return backtracking(i-1, j-1)\n",
    "        if (i > 0) and (j >= 0) and (T[i,j] == T[i-1,j] + gap_cost):\n",
    "            #print(f\"i: {i-1}, j: {j}\")\n",
    "            path.append((i-1, j))\n",
    "            return backtracking(i-1, j)\n",
    "        if (i>=0) and (j > 0) and (T[i,j] == (T[i,j-1] + gap_cost)):\n",
    "            #print(f\"i: {i}, j: {j-1}\")\n",
    "            path.append((i, j-1))\n",
    "            return backtracking(i, j-1)\n",
    "    backtracking(len(A), len(B))\n",
    "    path.reverse()\n",
    "    old_index1, old_index2 = 0, 0\n",
    "    new_seq1, new_seq2 = [], []\n",
    "    for new_index1, new_index2 in path[1:]:\n",
    "        if (old_index1 +1) == new_index1 and (old_index2+1) == new_index2:\n",
    "            new_seq1.append(A[old_index1])\n",
    "            new_seq2.append(B[old_index2])\n",
    "        if old_index1 == new_index1 and (old_index2+1) == new_index2:\n",
    "            new_seq1.append(-1)\n",
    "            new_seq2.append(B[old_index2])\n",
    "        if (old_index1 +1) == new_index1 and old_index2 == new_index2:\n",
    "            new_seq1.append(A[old_index1])\n",
    "            new_seq2.append(-1)\n",
    "        old_index1, old_index2 = new_index1, new_index2\n",
    "    return (\n",
    "        \"\".join(from_number_to_dna(x) for x in new_seq1),\n",
    "        \"\".join(from_number_to_dna(x) for x in new_seq2)\n",
    "        )\n",
    "\n",
    "\n",
    "score_mat = np.matrix(\n",
    "[[10, 2, 5, 2],\n",
    "[2, 10, 2, 5],\n",
    "[5, 2, 10, 2],\n",
    "[2, 5, 2, 10]]\n",
    ")\n",
    "\n",
    "print(get_optimal_alignment(\n",
    "    'TCCAGAGA', 'TCGAT',\n",
    "    score_mat, gap_cost=-5, opt_fn=np.max\n",
    "    ))"
   ]
  }
 ],
 "metadata": {
  "kernelspec": {
   "display_name": "Python 3",
   "language": "python",
   "name": "python3"
  },
  "language_info": {
   "codemirror_mode": {
    "name": "ipython",
    "version": 3
   },
   "file_extension": ".py",
   "mimetype": "text/x-python",
   "name": "python",
   "nbconvert_exporter": "python",
   "pygments_lexer": "ipython3",
   "version": "3.10.8"
  },
  "orig_nbformat": 4,
  "vscode": {
   "interpreter": {
    "hash": "31f2aee4e71d21fbe5cf8b01ff0e069b9275f58929596ceb00d14d90e3e16cd6"
   }
  }
 },
 "nbformat": 4,
 "nbformat_minor": 2
}
